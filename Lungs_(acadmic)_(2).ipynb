{
  "nbformat": 4,
  "nbformat_minor": 0,
  "metadata": {
    "colab": {
      "provenance": []
    },
    "kernelspec": {
      "name": "python3",
      "display_name": "Python 3"
    },
    "language_info": {
      "name": "python"
    }
  },
  "cells": [
    {
      "cell_type": "markdown",
      "source": [
        "# LIBRARIES"
      ],
      "metadata": {
        "id": "bGhX9Qtyrh8K"
      }
    },
    {
      "cell_type": "code",
      "execution_count": 18,
      "metadata": {
        "id": "mnlPI9AVqbuo"
      },
      "outputs": [],
      "source": [
        "import os\n",
        "import cv2\n",
        "import numpy as np\n",
        "import hashlib\n",
        "import pandas as pd\n",
        "from skimage.feature import hog\n",
        "from sklearn.model_selection import train_test_split\n",
        "from imblearn.over_sampling import SMOTE\n",
        "from albumentations import Compose, HorizontalFlip, RandomBrightnessContrast"
      ]
    },
    {
      "cell_type": "code",
      "source": [
        "from google.colab import drive\n",
        "drive.mount('/content/drive')"
      ],
      "metadata": {
        "colab": {
          "base_uri": "https://localhost:8080/"
        },
        "id": "nSR_jKlzxWqE",
        "outputId": "53c3264d-0cb2-4ae1-8c27-c02a49ea1af2"
      },
      "execution_count": 2,
      "outputs": [
        {
          "output_type": "stream",
          "name": "stdout",
          "text": [
            "Mounted at /content/drive\n"
          ]
        }
      ]
    },
    {
      "cell_type": "markdown",
      "source": [
        "# Path to dataset"
      ],
      "metadata": {
        "id": "8zLzOfjQsT14"
      }
    },
    {
      "cell_type": "code",
      "source": [
        "!unzip \"/content/dataset(lungs).zip\""
      ],
      "metadata": {
        "colab": {
          "base_uri": "https://localhost:8080/"
        },
        "collapsed": true,
        "id": "_X67Zt0L0Nx_",
        "outputId": "67ecbf01-8abc-4dc1-f69a-7a7ec23dee9b"
      },
      "execution_count": 6,
      "outputs": [
        {
          "output_type": "stream",
          "name": "stdout",
          "text": [
            "Archive:  /content/dataset(lungs).zip\n",
            "replace Data/test/adenocarcinoma/000108 (3).png? [y]es, [n]o, [A]ll, [N]one, [r]ename: n\n",
            "replace Data/test/adenocarcinoma/000109 (2).png? [y]es, [n]o, [A]ll, [N]one, [r]ename: n\n",
            "replace Data/test/adenocarcinoma/000109 (4).png? [y]es, [n]o, [A]ll, [N]one, [r]ename: n\n",
            "replace Data/test/adenocarcinoma/000109 (5).png? [y]es, [n]o, [A]ll, [N]one, [r]ename: \n",
            "error:  invalid response [{ENTER}]\n",
            "replace Data/test/adenocarcinoma/000109 (5).png? [y]es, [n]o, [A]ll, [N]one, [r]ename: "
          ]
        }
      ]
    },
    {
      "cell_type": "code",
      "source": [
        "data_dir = \"/content/Data\""
      ],
      "metadata": {
        "id": "DQRpNh_psEl9"
      },
      "execution_count": 7,
      "outputs": []
    },
    {
      "cell_type": "code",
      "source": [
        "train_dir = \"/content/Data/train\"\n",
        "test_dir = \"/content/Data/test\"\n",
        "valid_dir = \"/content/Data/valid\""
      ],
      "metadata": {
        "id": "UaZK2M2lyGrq"
      },
      "execution_count": 8,
      "outputs": []
    },
    {
      "cell_type": "markdown",
      "source": [
        "# Image Preprocessing Parameters"
      ],
      "metadata": {
        "id": "5_mWnTTxslYB"
      }
    },
    {
      "cell_type": "code",
      "source": [
        "IMAGE_SIZE = (224, 224)\n",
        "NORMALIZE = True\n",
        "AUGMENTATION = True"
      ],
      "metadata": {
        "id": "UdMYPo1Nsh68"
      },
      "execution_count": 9,
      "outputs": []
    },
    {
      "cell_type": "markdown",
      "source": [
        "# Allowed Image Formats"
      ],
      "metadata": {
        "id": "iFWaCv74ueUL"
      }
    },
    {
      "cell_type": "code",
      "source": [
        "IMAGE_EXTENSIONS = {\".png\", \".jpg\", \".jpeg\"}"
      ],
      "metadata": {
        "id": "tn5408FJugJ5"
      },
      "execution_count": 10,
      "outputs": []
    },
    {
      "cell_type": "markdown",
      "source": [
        "# Data Augmentation Pipeline"
      ],
      "metadata": {
        "id": "8Cwn-LTFsvr6"
      }
    },
    {
      "cell_type": "code",
      "source": [
        "augment = Compose([\n",
        "    HorizontalFlip(p=0.5),\n",
        "    RandomBrightnessContrast(p=0.2)\n",
        "]) if AUGMENTATION else None"
      ],
      "metadata": {
        "id": "puWOIDhYsqrb"
      },
      "execution_count": 11,
      "outputs": []
    },
    {
      "cell_type": "code",
      "source": [
        "def compute_hash(image_path):\n",
        "    \"\"\"Compute hash of an image to find duplicates.\"\"\"\n",
        "    try:\n",
        "        with open(image_path, \"rb\") as f:\n",
        "            return hashlib.md5(f.read()).hexdigest()\n",
        "    except IsADirectoryError:\n",
        "        print(f\"Skipping directory: {image_path}\")\n",
        "        return None"
      ],
      "metadata": {
        "id": "0IHRHP3ps1WS"
      },
      "execution_count": 12,
      "outputs": []
    },
    {
      "cell_type": "code",
      "source": [
        "def preprocess_image(image_path):\n",
        "    \"\"\"Load, resize, and normalize image.\"\"\"\n",
        "    img = cv2.imread(image_path, cv2.IMREAD_GRAYSCALE)\n",
        "    if img is None:\n",
        "        return None  # Skip corrupt images\n",
        "    img = cv2.resize(img, IMAGE_SIZE)\n",
        "    if NORMALIZE:\n",
        "        img = img / 255.0  # Normalize pixel values\n",
        "    return img"
      ],
      "metadata": {
        "id": "ETO2f3C_s5GD"
      },
      "execution_count": 13,
      "outputs": []
    },
    {
      "cell_type": "code",
      "source": [
        "def extract_features(image):\n",
        "    \"\"\"Extract HOG features from the image.\"\"\"\n",
        "    features, _ = hog(image, pixels_per_cell=(16, 16), cells_per_block=(2, 2),\n",
        "                      visualize=True)\n",
        "    return features"
      ],
      "metadata": {
        "id": "bI74h09Ks9qy"
      },
      "execution_count": 14,
      "outputs": []
    },
    {
      "cell_type": "code",
      "source": [
        "from skimage.feature import graycomatrix, graycoprops\n",
        "\n",
        "def extract_texture_features(image):\n",
        "    glcm = graycomatrix(image, distances=[1], angles=[0], symmetric=True, normed=True)\n",
        "    contrast = graycoprops(glcm, 'contrast')[0, 0]\n",
        "    correlation = graycoprops(glcm, 'correlation')[0, 0]\n",
        "    return [contrast, correlation]\n"
      ],
      "metadata": {
        "id": "TrlZRJSjID0Y"
      },
      "execution_count": 51,
      "outputs": []
    },
    {
      "cell_type": "code",
      "source": [
        "from skimage.measure import regionprops\n",
        "from skimage.filters import sobel\n",
        "\n",
        "def extract_shape_features(image):\n",
        "    edges = sobel(image)\n",
        "    regions = regionprops(edges.astype(int))\n",
        "    return [regions[0].eccentricity, regions[0].solidity] if regions else [0, 0]\n"
      ],
      "metadata": {
        "id": "WTmM3ZeBIHRk"
      },
      "execution_count": 52,
      "outputs": []
    },
    {
      "cell_type": "code",
      "source": [
        "def load_data():\n",
        "    X, y = [], []\n",
        "    hashes = {}\n",
        "\n",
        "    for category in os.listdir(data_dir):\n",
        "        category_path = os.path.join(data_dir, category)\n",
        "        if not os.path.isdir(category_path):\n",
        "            continue  # Skip non-directory files\n",
        "\n",
        "        for root, _, files in os.walk(category_path):\n",
        "            for img_file in files:\n",
        "                img_path = os.path.join(root, img_file)\n",
        "\n",
        "                if not any(img_file.lower().endswith(ext) for ext in IMAGE_EXTENSIONS):\n",
        "                    print(f\"Skipping non-image file: {img_path}\")\n",
        "                    continue\n",
        "\n",
        "                print(f\"Processing image: {img_path}\")  # Debugging\n",
        "\n",
        "                img_hash = compute_hash(img_path)\n",
        "                if img_hash is None or img_hash in hashes:\n",
        "                    continue\n",
        "                hashes[img_hash] = img_path\n",
        "\n",
        "                image = preprocess_image(img_path)\n",
        "                if image is None:\n",
        "                    continue\n",
        "\n",
        "                X.append(extract_features(image))\n",
        "                y.append(category)\n",
        "\n",
        "    if not X:\n",
        "        raise ValueError(\"No images were found or processed. Check dataset path and image formats.\")\n",
        "\n",
        "    return np.array(X), np.array(y)\n"
      ],
      "metadata": {
        "id": "ab00wvCvtOwW"
      },
      "execution_count": 16,
      "outputs": []
    },
    {
      "cell_type": "code",
      "source": [
        "try:\n",
        "    X, y = load_data()\n",
        "    print(f\"Total images processed: {len(X)}\")\n",
        "except ValueError as e:\n",
        "    print(f\"Error: {e}\")\n"
      ],
      "metadata": {
        "colab": {
          "base_uri": "https://localhost:8080/"
        },
        "collapsed": true,
        "id": "BaBAcR5D0JpH",
        "outputId": "82c5ce1a-39af-4ac7-aa7b-eab19c3c15bc"
      },
      "execution_count": 17,
      "outputs": [
        {
          "output_type": "stream",
          "name": "stdout",
          "text": [
            "Processing image: /content/Data/train/squamous.cell.carcinoma_left.hilum_T1_N2_M0_IIIa/000120 (6).png\n",
            "Processing image: /content/Data/train/squamous.cell.carcinoma_left.hilum_T1_N2_M0_IIIa/000065 (5).png\n",
            "Processing image: /content/Data/train/squamous.cell.carcinoma_left.hilum_T1_N2_M0_IIIa/000041 (4).png\n",
            "Processing image: /content/Data/train/squamous.cell.carcinoma_left.hilum_T1_N2_M0_IIIa/000106 (7).png\n",
            "Processing image: /content/Data/train/squamous.cell.carcinoma_left.hilum_T1_N2_M0_IIIa/sq1.png\n",
            "Processing image: /content/Data/train/squamous.cell.carcinoma_left.hilum_T1_N2_M0_IIIa/000024 (7).png\n",
            "Processing image: /content/Data/train/squamous.cell.carcinoma_left.hilum_T1_N2_M0_IIIa/000029 (4).png\n",
            "Processing image: /content/Data/train/squamous.cell.carcinoma_left.hilum_T1_N2_M0_IIIa/000046 (5).png\n",
            "Processing image: /content/Data/train/squamous.cell.carcinoma_left.hilum_T1_N2_M0_IIIa/000028 (7).png\n",
            "Processing image: /content/Data/train/squamous.cell.carcinoma_left.hilum_T1_N2_M0_IIIa/000078 (5).png\n",
            "Processing image: /content/Data/train/squamous.cell.carcinoma_left.hilum_T1_N2_M0_IIIa/000008 (3).png\n",
            "Processing image: /content/Data/train/squamous.cell.carcinoma_left.hilum_T1_N2_M0_IIIa/000038 (2).png\n",
            "Processing image: /content/Data/train/squamous.cell.carcinoma_left.hilum_T1_N2_M0_IIIa/000032.png\n",
            "Processing image: /content/Data/train/squamous.cell.carcinoma_left.hilum_T1_N2_M0_IIIa/000099 (2).png\n",
            "Processing image: /content/Data/train/squamous.cell.carcinoma_left.hilum_T1_N2_M0_IIIa/000083 (2).png\n",
            "Processing image: /content/Data/train/squamous.cell.carcinoma_left.hilum_T1_N2_M0_IIIa/000063 (6).png\n",
            "Processing image: /content/Data/train/squamous.cell.carcinoma_left.hilum_T1_N2_M0_IIIa/000084 (5).png\n",
            "Processing image: /content/Data/train/squamous.cell.carcinoma_left.hilum_T1_N2_M0_IIIa/000004 (5).png\n",
            "Processing image: /content/Data/train/squamous.cell.carcinoma_left.hilum_T1_N2_M0_IIIa/000074 (6).png\n",
            "Processing image: /content/Data/train/squamous.cell.carcinoma_left.hilum_T1_N2_M0_IIIa/000081 (6).png\n",
            "Processing image: /content/Data/train/squamous.cell.carcinoma_left.hilum_T1_N2_M0_IIIa/000003.png\n",
            "Processing image: /content/Data/train/squamous.cell.carcinoma_left.hilum_T1_N2_M0_IIIa/000084 (7).png\n",
            "Processing image: /content/Data/train/squamous.cell.carcinoma_left.hilum_T1_N2_M0_IIIa/000083 (6).png\n",
            "Processing image: /content/Data/train/squamous.cell.carcinoma_left.hilum_T1_N2_M0_IIIa/000004 (7).png\n",
            "Processing image: /content/Data/train/squamous.cell.carcinoma_left.hilum_T1_N2_M0_IIIa/000094 (3).png\n",
            "Processing image: /content/Data/train/squamous.cell.carcinoma_left.hilum_T1_N2_M0_IIIa/000053.png\n",
            "Processing image: /content/Data/train/squamous.cell.carcinoma_left.hilum_T1_N2_M0_IIIa/000007.png\n",
            "Processing image: /content/Data/train/squamous.cell.carcinoma_left.hilum_T1_N2_M0_IIIa/000043.png\n",
            "Processing image: /content/Data/train/squamous.cell.carcinoma_left.hilum_T1_N2_M0_IIIa/000036 (4).png\n",
            "Processing image: /content/Data/train/squamous.cell.carcinoma_left.hilum_T1_N2_M0_IIIa/000058 (7).png\n",
            "Processing image: /content/Data/train/squamous.cell.carcinoma_left.hilum_T1_N2_M0_IIIa/000090 (6).png\n",
            "Processing image: /content/Data/train/squamous.cell.carcinoma_left.hilum_T1_N2_M0_IIIa/sq3.png\n",
            "Processing image: /content/Data/train/squamous.cell.carcinoma_left.hilum_T1_N2_M0_IIIa/000094.png\n",
            "Processing image: /content/Data/train/squamous.cell.carcinoma_left.hilum_T1_N2_M0_IIIa/000100 (4).png\n",
            "Processing image: /content/Data/train/squamous.cell.carcinoma_left.hilum_T1_N2_M0_IIIa/000038 (5).png\n",
            "Processing image: /content/Data/train/squamous.cell.carcinoma_left.hilum_T1_N2_M0_IIIa/000091 (7).png\n",
            "Processing image: /content/Data/train/squamous.cell.carcinoma_left.hilum_T1_N2_M0_IIIa/000106 (6).png\n",
            "Processing image: /content/Data/train/squamous.cell.carcinoma_left.hilum_T1_N2_M0_IIIa/000018 (6).png\n",
            "Processing image: /content/Data/train/squamous.cell.carcinoma_left.hilum_T1_N2_M0_IIIa/000081.png\n",
            "Processing image: /content/Data/train/squamous.cell.carcinoma_left.hilum_T1_N2_M0_IIIa/000058 (3).png\n",
            "Processing image: /content/Data/train/squamous.cell.carcinoma_left.hilum_T1_N2_M0_IIIa/000053 (6).png\n",
            "Processing image: /content/Data/train/squamous.cell.carcinoma_left.hilum_T1_N2_M0_IIIa/000002 (6).png\n",
            "Processing image: /content/Data/train/squamous.cell.carcinoma_left.hilum_T1_N2_M0_IIIa/000099 (3).png\n",
            "Processing image: /content/Data/train/squamous.cell.carcinoma_left.hilum_T1_N2_M0_IIIa/000075.png\n",
            "Processing image: /content/Data/train/squamous.cell.carcinoma_left.hilum_T1_N2_M0_IIIa/000074 (5).png\n",
            "Processing image: /content/Data/train/squamous.cell.carcinoma_left.hilum_T1_N2_M0_IIIa/000055 (3).png\n",
            "Processing image: /content/Data/train/squamous.cell.carcinoma_left.hilum_T1_N2_M0_IIIa/000055 (2).png\n",
            "Processing image: /content/Data/train/squamous.cell.carcinoma_left.hilum_T1_N2_M0_IIIa/000030 (2).png\n",
            "Processing image: /content/Data/train/squamous.cell.carcinoma_left.hilum_T1_N2_M0_IIIa/000071 (3).png\n",
            "Processing image: /content/Data/train/squamous.cell.carcinoma_left.hilum_T1_N2_M0_IIIa/000093.png\n",
            "Processing image: /content/Data/train/squamous.cell.carcinoma_left.hilum_T1_N2_M0_IIIa/000009 (2).png\n",
            "Processing image: /content/Data/train/squamous.cell.carcinoma_left.hilum_T1_N2_M0_IIIa/000050 (6).png\n",
            "Processing image: /content/Data/train/squamous.cell.carcinoma_left.hilum_T1_N2_M0_IIIa/000067 (2).png\n",
            "Processing image: /content/Data/train/squamous.cell.carcinoma_left.hilum_T1_N2_M0_IIIa/000106 (5).png\n",
            "Processing image: /content/Data/train/squamous.cell.carcinoma_left.hilum_T1_N2_M0_IIIa/000046 (7).png\n",
            "Processing image: /content/Data/train/squamous.cell.carcinoma_left.hilum_T1_N2_M0_IIIa/000027 (2).png\n",
            "Processing image: /content/Data/train/squamous.cell.carcinoma_left.hilum_T1_N2_M0_IIIa/000122.png\n",
            "Processing image: /content/Data/train/squamous.cell.carcinoma_left.hilum_T1_N2_M0_IIIa/000046 (6).png\n",
            "Processing image: /content/Data/train/squamous.cell.carcinoma_left.hilum_T1_N2_M0_IIIa/000028 (5).png\n",
            "Processing image: /content/Data/train/squamous.cell.carcinoma_left.hilum_T1_N2_M0_IIIa/000030 (7).png\n",
            "Processing image: /content/Data/train/squamous.cell.carcinoma_left.hilum_T1_N2_M0_IIIa/000006 (4).png\n",
            "Processing image: /content/Data/train/squamous.cell.carcinoma_left.hilum_T1_N2_M0_IIIa/000035 (5).png\n",
            "Processing image: /content/Data/train/squamous.cell.carcinoma_left.hilum_T1_N2_M0_IIIa/000070.png\n",
            "Processing image: /content/Data/train/squamous.cell.carcinoma_left.hilum_T1_N2_M0_IIIa/000121.png\n",
            "Processing image: /content/Data/train/squamous.cell.carcinoma_left.hilum_T1_N2_M0_IIIa/000054 (3).png\n",
            "Processing image: /content/Data/train/squamous.cell.carcinoma_left.hilum_T1_N2_M0_IIIa/000057 (5).png\n",
            "Processing image: /content/Data/train/squamous.cell.carcinoma_left.hilum_T1_N2_M0_IIIa/000033.png\n",
            "Processing image: /content/Data/train/squamous.cell.carcinoma_left.hilum_T1_N2_M0_IIIa/000067 (7).png\n",
            "Processing image: /content/Data/train/squamous.cell.carcinoma_left.hilum_T1_N2_M0_IIIa/000120 (2).png\n",
            "Processing image: /content/Data/train/squamous.cell.carcinoma_left.hilum_T1_N2_M0_IIIa/000035.png\n",
            "Processing image: /content/Data/train/squamous.cell.carcinoma_left.hilum_T1_N2_M0_IIIa/000082 (3).png\n",
            "Processing image: /content/Data/train/squamous.cell.carcinoma_left.hilum_T1_N2_M0_IIIa/000060 (2).png\n",
            "Processing image: /content/Data/train/squamous.cell.carcinoma_left.hilum_T1_N2_M0_IIIa/000077 (4).png\n",
            "Processing image: /content/Data/train/squamous.cell.carcinoma_left.hilum_T1_N2_M0_IIIa/000030 (5).png\n",
            "Processing image: /content/Data/train/squamous.cell.carcinoma_left.hilum_T1_N2_M0_IIIa/000120 (4).png\n",
            "Processing image: /content/Data/train/squamous.cell.carcinoma_left.hilum_T1_N2_M0_IIIa/000089 (4).png\n",
            "Processing image: /content/Data/train/squamous.cell.carcinoma_left.hilum_T1_N2_M0_IIIa/000057 (6).png\n",
            "Processing image: /content/Data/train/squamous.cell.carcinoma_left.hilum_T1_N2_M0_IIIa/000078 (7).png\n",
            "Processing image: /content/Data/train/squamous.cell.carcinoma_left.hilum_T1_N2_M0_IIIa/000067 (5).png\n",
            "Processing image: /content/Data/train/squamous.cell.carcinoma_left.hilum_T1_N2_M0_IIIa/000010 (6).png\n",
            "Processing image: /content/Data/train/squamous.cell.carcinoma_left.hilum_T1_N2_M0_IIIa/000073 (6).png\n",
            "Processing image: /content/Data/train/squamous.cell.carcinoma_left.hilum_T1_N2_M0_IIIa/000056 (5).png\n",
            "Processing image: /content/Data/train/squamous.cell.carcinoma_left.hilum_T1_N2_M0_IIIa/000015 (5).png\n",
            "Processing image: /content/Data/train/squamous.cell.carcinoma_left.hilum_T1_N2_M0_IIIa/000054.png\n",
            "Processing image: /content/Data/train/squamous.cell.carcinoma_left.hilum_T1_N2_M0_IIIa/000062 (5).png\n",
            "Processing image: /content/Data/train/squamous.cell.carcinoma_left.hilum_T1_N2_M0_IIIa/000017 (4).png\n",
            "Processing image: /content/Data/train/squamous.cell.carcinoma_left.hilum_T1_N2_M0_IIIa/000079 (7).png\n",
            "Processing image: /content/Data/train/squamous.cell.carcinoma_left.hilum_T1_N2_M0_IIIa/000056 (7).png\n",
            "Processing image: /content/Data/train/squamous.cell.carcinoma_left.hilum_T1_N2_M0_IIIa/000065 (7).png\n",
            "Processing image: /content/Data/train/squamous.cell.carcinoma_left.hilum_T1_N2_M0_IIIa/000066.png\n",
            "Processing image: /content/Data/train/squamous.cell.carcinoma_left.hilum_T1_N2_M0_IIIa/000068 (4).png\n",
            "Processing image: /content/Data/train/squamous.cell.carcinoma_left.hilum_T1_N2_M0_IIIa/000105 (7).png\n",
            "Processing image: /content/Data/train/squamous.cell.carcinoma_left.hilum_T1_N2_M0_IIIa/000057 (7).png\n",
            "Processing image: /content/Data/train/squamous.cell.carcinoma_left.hilum_T1_N2_M0_IIIa/000106 (4).png\n",
            "Processing image: /content/Data/train/squamous.cell.carcinoma_left.hilum_T1_N2_M0_IIIa/000048 (5).png\n",
            "Processing image: /content/Data/train/squamous.cell.carcinoma_left.hilum_T1_N2_M0_IIIa/000070 (2).png\n",
            "Processing image: /content/Data/train/squamous.cell.carcinoma_left.hilum_T1_N2_M0_IIIa/000084 (3).png\n",
            "Processing image: /content/Data/train/squamous.cell.carcinoma_left.hilum_T1_N2_M0_IIIa/000074 (7).png\n",
            "Processing image: /content/Data/train/squamous.cell.carcinoma_left.hilum_T1_N2_M0_IIIa/000064 (4).png\n",
            "Processing image: /content/Data/train/squamous.cell.carcinoma_left.hilum_T1_N2_M0_IIIa/000077 (5).png\n",
            "Processing image: /content/Data/train/squamous.cell.carcinoma_left.hilum_T1_N2_M0_IIIa/000058 (5).png\n",
            "Processing image: /content/Data/train/squamous.cell.carcinoma_left.hilum_T1_N2_M0_IIIa/000105 (5).png\n",
            "Processing image: /content/Data/train/squamous.cell.carcinoma_left.hilum_T1_N2_M0_IIIa/000057 (3).png\n",
            "Processing image: /content/Data/train/squamous.cell.carcinoma_left.hilum_T1_N2_M0_IIIa/000104.png\n",
            "Processing image: /content/Data/train/squamous.cell.carcinoma_left.hilum_T1_N2_M0_IIIa/000083 (5).png\n",
            "Processing image: /content/Data/train/squamous.cell.carcinoma_left.hilum_T1_N2_M0_IIIa/000121 (2).png\n",
            "Processing image: /content/Data/train/squamous.cell.carcinoma_left.hilum_T1_N2_M0_IIIa/000091 (5).png\n",
            "Processing image: /content/Data/train/squamous.cell.carcinoma_left.hilum_T1_N2_M0_IIIa/000037 (2).png\n",
            "Processing image: /content/Data/train/squamous.cell.carcinoma_left.hilum_T1_N2_M0_IIIa/000062 (7).png\n",
            "Processing image: /content/Data/train/squamous.cell.carcinoma_left.hilum_T1_N2_M0_IIIa/000078.png\n",
            "Processing image: /content/Data/train/squamous.cell.carcinoma_left.hilum_T1_N2_M0_IIIa/000063 (3).png\n",
            "Processing image: /content/Data/train/squamous.cell.carcinoma_left.hilum_T1_N2_M0_IIIa/000028 (4).png\n",
            "Processing image: /content/Data/train/squamous.cell.carcinoma_left.hilum_T1_N2_M0_IIIa/000096 (2).png\n",
            "Processing image: /content/Data/train/squamous.cell.carcinoma_left.hilum_T1_N2_M0_IIIa/000016 (3).png\n",
            "Processing image: /content/Data/train/squamous.cell.carcinoma_left.hilum_T1_N2_M0_IIIa/000079 (5).png\n",
            "Processing image: /content/Data/train/squamous.cell.carcinoma_left.hilum_T1_N2_M0_IIIa/000051 (3).png\n",
            "Processing image: /content/Data/train/squamous.cell.carcinoma_left.hilum_T1_N2_M0_IIIa/000083 (7).png\n",
            "Processing image: /content/Data/train/squamous.cell.carcinoma_left.hilum_T1_N2_M0_IIIa/000104 (2).png\n",
            "Processing image: /content/Data/train/squamous.cell.carcinoma_left.hilum_T1_N2_M0_IIIa/sq2.png\n",
            "Processing image: /content/Data/train/squamous.cell.carcinoma_left.hilum_T1_N2_M0_IIIa/000103.png\n",
            "Processing image: /content/Data/train/squamous.cell.carcinoma_left.hilum_T1_N2_M0_IIIa/000106 (3).png\n",
            "Processing image: /content/Data/train/squamous.cell.carcinoma_left.hilum_T1_N2_M0_IIIa/000048 (7).png\n",
            "Processing image: /content/Data/train/squamous.cell.carcinoma_left.hilum_T1_N2_M0_IIIa/000067 (3).png\n",
            "Processing image: /content/Data/train/squamous.cell.carcinoma_left.hilum_T1_N2_M0_IIIa/sq6.png\n",
            "Processing image: /content/Data/train/squamous.cell.carcinoma_left.hilum_T1_N2_M0_IIIa/000057 (4).png\n",
            "Processing image: /content/Data/train/squamous.cell.carcinoma_left.hilum_T1_N2_M0_IIIa/000002 (4).png\n",
            "Processing image: /content/Data/train/squamous.cell.carcinoma_left.hilum_T1_N2_M0_IIIa/000015 (7).png\n",
            "Processing image: /content/Data/train/squamous.cell.carcinoma_left.hilum_T1_N2_M0_IIIa/000052 (4).png\n",
            "Processing image: /content/Data/train/squamous.cell.carcinoma_left.hilum_T1_N2_M0_IIIa/000096.png\n",
            "Processing image: /content/Data/train/squamous.cell.carcinoma_left.hilum_T1_N2_M0_IIIa/000006.png\n",
            "Processing image: /content/Data/train/squamous.cell.carcinoma_left.hilum_T1_N2_M0_IIIa/000122 (3).png\n",
            "Processing image: /content/Data/train/squamous.cell.carcinoma_left.hilum_T1_N2_M0_IIIa/000007 (4).png\n",
            "Processing image: /content/Data/train/squamous.cell.carcinoma_left.hilum_T1_N2_M0_IIIa/000004 (4).png\n",
            "Processing image: /content/Data/train/squamous.cell.carcinoma_left.hilum_T1_N2_M0_IIIa/000063.png\n",
            "Processing image: /content/Data/train/squamous.cell.carcinoma_left.hilum_T1_N2_M0_IIIa/000079.png\n",
            "Processing image: /content/Data/train/squamous.cell.carcinoma_left.hilum_T1_N2_M0_IIIa/000088.png\n",
            "Processing image: /content/Data/train/squamous.cell.carcinoma_left.hilum_T1_N2_M0_IIIa/000049 (3).png\n",
            "Processing image: /content/Data/train/squamous.cell.carcinoma_left.hilum_T1_N2_M0_IIIa/000085.png\n",
            "Processing image: /content/Data/train/squamous.cell.carcinoma_left.hilum_T1_N2_M0_IIIa/sq5.png\n",
            "Processing image: /content/Data/train/squamous.cell.carcinoma_left.hilum_T1_N2_M0_IIIa/000048.png\n",
            "Processing image: /content/Data/train/squamous.cell.carcinoma_left.hilum_T1_N2_M0_IIIa/000038 (7).png\n",
            "Processing image: /content/Data/train/squamous.cell.carcinoma_left.hilum_T1_N2_M0_IIIa/000044 (2).png\n",
            "Processing image: /content/Data/train/squamous.cell.carcinoma_left.hilum_T1_N2_M0_IIIa/000081 (3).png\n",
            "Processing image: /content/Data/train/squamous.cell.carcinoma_left.hilum_T1_N2_M0_IIIa/000046 (4).png\n",
            "Processing image: /content/Data/train/squamous.cell.carcinoma_left.hilum_T1_N2_M0_IIIa/000077 (2).png\n",
            "Processing image: /content/Data/train/squamous.cell.carcinoma_left.hilum_T1_N2_M0_IIIa/000013 (6).png\n",
            "Processing image: /content/Data/train/squamous.cell.carcinoma_left.hilum_T1_N2_M0_IIIa/000043 (3).png\n",
            "Processing image: /content/Data/train/squamous.cell.carcinoma_left.hilum_T1_N2_M0_IIIa/000069 (2).png\n",
            "Processing image: /content/Data/train/squamous.cell.carcinoma_left.hilum_T1_N2_M0_IIIa/000066 (2).png\n",
            "Processing image: /content/Data/train/squamous.cell.carcinoma_left.hilum_T1_N2_M0_IIIa/000082 (4).png\n",
            "Processing image: /content/Data/train/squamous.cell.carcinoma_left.hilum_T1_N2_M0_IIIa/000050 (2).png\n",
            "Processing image: /content/Data/train/squamous.cell.carcinoma_left.hilum_T1_N2_M0_IIIa/000024 (5).png\n",
            "Processing image: /content/Data/train/squamous.cell.carcinoma_left.hilum_T1_N2_M0_IIIa/000101 (3).png\n",
            "Processing image: /content/Data/train/squamous.cell.carcinoma_left.hilum_T1_N2_M0_IIIa/000058.png\n",
            "Processing image: /content/Data/train/squamous.cell.carcinoma_left.hilum_T1_N2_M0_IIIa/sq4.png\n",
            "Processing image: /content/Data/train/normal/6 - Copy (2) - Copy.png\n",
            "Processing image: /content/Data/train/normal/7.png\n",
            "Processing image: /content/Data/train/normal/13 - Copy (2).png\n",
            "Processing image: /content/Data/train/normal/7 - Copy (2).png\n",
            "Processing image: /content/Data/train/normal/n8 - Copy.jpg\n",
            "Processing image: /content/Data/train/normal/6 - Copy (3).png\n",
            "Processing image: /content/Data/train/normal/n8 (2) - Copy.jpg\n",
            "Processing image: /content/Data/train/normal/20.png\n",
            "Processing image: /content/Data/train/normal/19 - Copy - Copy.png\n",
            "Processing image: /content/Data/train/normal/3 - Copy - Copy.png\n",
            "Processing image: /content/Data/train/normal/n7 - Copy.png\n",
            "Processing image: /content/Data/train/normal/8 (2) - Copy.png\n",
            "Processing image: /content/Data/train/normal/16 - Copy (3).png\n",
            "Processing image: /content/Data/train/normal/19 - Copy.png\n",
            "Processing image: /content/Data/train/normal/2 - Copy - Copy.png\n",
            "Processing image: /content/Data/train/normal/19 - Copy (3).png\n",
            "Processing image: /content/Data/train/normal/2 - Copy (2).png\n",
            "Processing image: /content/Data/train/normal/n6 - Copy.jpg\n",
            "Processing image: /content/Data/train/normal/4 - Copy (3).png\n",
            "Processing image: /content/Data/train/normal/17.png\n",
            "Processing image: /content/Data/train/normal/20 - Copy (2) - Copy.png\n",
            "Processing image: /content/Data/train/normal/n6 (2) - Copy.jpg\n",
            "Processing image: /content/Data/train/normal/16 - Copy (2).png\n",
            "Processing image: /content/Data/train/normal/2.png\n",
            "Processing image: /content/Data/train/normal/3.png\n",
            "Processing image: /content/Data/train/normal/5 - Copy - Copy.png\n",
            "Processing image: /content/Data/train/normal/11 - Copy - Copy.png\n",
            "Processing image: /content/Data/train/normal/13 (2).png\n",
            "Processing image: /content/Data/train/normal/n6 (2).jpg\n",
            "Processing image: /content/Data/train/normal/17 - Copy - Copy.png\n",
            "Processing image: /content/Data/train/normal/n8 (2).jpg\n",
            "Processing image: /content/Data/train/normal/19 (2) - Copy.png\n",
            "Processing image: /content/Data/train/normal/12 - Copy - Copy.png\n",
            "Processing image: /content/Data/train/normal/6 (2) - Copy.png\n",
            "Processing image: /content/Data/train/normal/3 - Copy (3).png\n",
            "Processing image: /content/Data/train/normal/5 - Copy (2) - Copy.png\n",
            "Processing image: /content/Data/train/normal/16 - Copy (2) - Copy.png\n",
            "Processing image: /content/Data/train/normal/21 - Copy (2).png\n",
            "Processing image: /content/Data/train/normal/20 - Copy (2).png\n",
            "Processing image: /content/Data/train/normal/8 - Copy.png\n",
            "Processing image: /content/Data/train/normal/3 (2).png\n",
            "Processing image: /content/Data/train/normal/12 - Copy.png\n",
            "Processing image: /content/Data/train/normal/5 - Copy (3).png\n",
            "Processing image: /content/Data/train/normal/12 (2) - Copy.png\n",
            "Processing image: /content/Data/train/normal/18 (2).png\n",
            "Processing image: /content/Data/train/normal/6 - Copy (2).png\n",
            "Processing image: /content/Data/train/normal/7 (2) - Copy.png\n",
            "Processing image: /content/Data/train/normal/2 - Copy (2) - Copy.png\n",
            "Processing image: /content/Data/train/normal/n9 (2).jpg\n",
            "Processing image: /content/Data/train/normal/12 - Copy (2) - Copy.png\n",
            "Processing image: /content/Data/train/normal/3 - Copy.png\n",
            "Processing image: /content/Data/train/normal/12 - Copy (2).png\n",
            "Processing image: /content/Data/train/normal/4 (2) - Copy.png\n",
            "Processing image: /content/Data/train/normal/16 (2).png\n",
            "Processing image: /content/Data/train/normal/11.png\n",
            "Processing image: /content/Data/train/normal/12.png\n",
            "Processing image: /content/Data/train/normal/18 - Copy (2) - Copy.png\n",
            "Processing image: /content/Data/train/normal/18 - Copy - Copy.png\n",
            "Processing image: /content/Data/train/normal/13 - Copy - Copy.png\n",
            "Processing image: /content/Data/train/normal/8 (2).png\n",
            "Processing image: /content/Data/train/normal/n9 (2) - Copy.jpg\n",
            "Processing image: /content/Data/train/normal/13 (2) - Copy.png\n",
            "Processing image: /content/Data/train/normal/n6.jpg\n",
            "Processing image: /content/Data/train/normal/4 - Copy.png\n",
            "Processing image: /content/Data/train/normal/n7 (2) - Copy.png\n",
            "Processing image: /content/Data/train/normal/3 - Copy (2).png\n",
            "Processing image: /content/Data/train/normal/4.png\n",
            "Processing image: /content/Data/train/normal/16 (2) - Copy.png\n",
            "Processing image: /content/Data/train/normal/n9 - Copy.jpg\n",
            "Processing image: /content/Data/train/normal/18 - Copy (3).png\n",
            "Processing image: /content/Data/train/normal/20 - Copy (3).png\n",
            "Processing image: /content/Data/train/normal/10 - Copy (3).png\n",
            "Processing image: /content/Data/train/normal/3 (2) - Copy.png\n",
            "Processing image: /content/Data/train/normal/10 (2).png\n",
            "Processing image: /content/Data/train/normal/17 - Copy.png\n",
            "Processing image: /content/Data/train/normal/5 - Copy (2).png\n",
            "Processing image: /content/Data/train/normal/16.png\n",
            "Processing image: /content/Data/train/normal/20 - Copy - Copy.png\n",
            "Processing image: /content/Data/train/normal/2 - Copy.png\n",
            "Processing image: /content/Data/train/normal/10 - Copy.png\n",
            "Processing image: /content/Data/train/normal/7 - Copy (2) - Copy.png\n",
            "Processing image: /content/Data/train/normal/n7.png\n",
            "Processing image: /content/Data/train/normal/18 - Copy (2).png\n",
            "Processing image: /content/Data/train/normal/19 - Copy (2) - Copy.png\n",
            "Processing image: /content/Data/train/normal/4 - Copy (2) - Copy.png\n",
            "Processing image: /content/Data/train/normal/20 (2).png\n",
            "Processing image: /content/Data/train/normal/11 (2) - Copy.png\n",
            "Processing image: /content/Data/train/normal/12 - Copy (3).png\n",
            "Processing image: /content/Data/train/normal/10 - Copy (2) - Copy.png\n",
            "Processing image: /content/Data/train/normal/11 - Copy (2) - Copy.png\n",
            "Processing image: /content/Data/train/normal/2 (2) - Copy.png\n",
            "Processing image: /content/Data/train/normal/2 (2).png\n",
            "Processing image: /content/Data/train/normal/18 - Copy.png\n",
            "Processing image: /content/Data/train/normal/n8.jpg\n",
            "Processing image: /content/Data/train/normal/13 - Copy (3).png\n",
            "Processing image: /content/Data/train/normal/7 (2).png\n",
            "Processing image: /content/Data/train/normal/13.png\n",
            "Processing image: /content/Data/train/normal/8.png\n",
            "Processing image: /content/Data/train/normal/5 - Copy.png\n",
            "Processing image: /content/Data/train/normal/n7 (2).png\n",
            "Processing image: /content/Data/train/normal/8 - Copy (2) - Copy.png\n",
            "Processing image: /content/Data/train/normal/17 - Copy (2).png\n",
            "Processing image: /content/Data/train/normal/13 - Copy (2) - Copy.png\n",
            "Processing image: /content/Data/train/normal/7 - Copy (3).png\n",
            "Processing image: /content/Data/train/normal/7 - Copy.png\n",
            "Processing image: /content/Data/train/normal/4 - Copy - Copy.png\n",
            "Processing image: /content/Data/train/normal/20 (2) - Copy.png\n",
            "Processing image: /content/Data/train/normal/n9.jpg\n",
            "Processing image: /content/Data/train/normal/21 - Copy.png\n",
            "Processing image: /content/Data/train/normal/6.png\n",
            "Processing image: /content/Data/train/normal/8 - Copy (3).png\n",
            "Processing image: /content/Data/train/normal/17 (2).png\n",
            "Processing image: /content/Data/train/normal/11 - Copy.png\n",
            "Processing image: /content/Data/train/normal/4 (2).png\n",
            "Processing image: /content/Data/train/normal/6 (2).png\n",
            "Processing image: /content/Data/train/normal/17 - Copy (3).png\n",
            "Processing image: /content/Data/train/normal/2 - Copy (3).png\n",
            "Processing image: /content/Data/train/normal/11 - Copy (2).png\n",
            "Processing image: /content/Data/train/normal/6 - Copy - Copy.png\n",
            "Processing image: /content/Data/train/normal/10 (2) - Copy.png\n",
            "Processing image: /content/Data/train/normal/18.png\n",
            "Processing image: /content/Data/train/normal/11 - Copy (3).png\n",
            "Processing image: /content/Data/train/normal/5 (2) - Copy.png\n",
            "Processing image: /content/Data/train/normal/10 - Copy (2).png\n",
            "Processing image: /content/Data/train/normal/19 - Copy (2).png\n",
            "Processing image: /content/Data/train/normal/16 - Copy.png\n",
            "Processing image: /content/Data/train/normal/16 - Copy - Copy.png\n",
            "Processing image: /content/Data/train/normal/17 - Copy (2) - Copy.png\n",
            "Processing image: /content/Data/train/normal/10 - Copy - Copy.png\n",
            "Processing image: /content/Data/train/normal/21 - Copy - Copy.png\n",
            "Processing image: /content/Data/train/normal/8 - Copy - Copy.png\n",
            "Processing image: /content/Data/train/normal/19.png\n",
            "Processing image: /content/Data/train/normal/18 (2) - Copy.png\n",
            "Processing image: /content/Data/train/normal/11 (2).png\n",
            "Processing image: /content/Data/train/normal/6 - Copy.png\n",
            "Processing image: /content/Data/train/normal/3 - Copy (2) - Copy.png\n",
            "Processing image: /content/Data/train/normal/8 - Copy (2).png\n",
            "Processing image: /content/Data/train/normal/13 - Copy.png\n",
            "Processing image: /content/Data/train/normal/20 - Copy.png\n",
            "Processing image: /content/Data/train/normal/19 (2).png\n",
            "Processing image: /content/Data/train/normal/17 (2) - Copy.png\n",
            "Processing image: /content/Data/train/normal/7 - Copy - Copy.png\n",
            "Processing image: /content/Data/train/normal/5 (2).png\n",
            "Processing image: /content/Data/train/normal/12 (2).png\n",
            "Processing image: /content/Data/train/normal/4 - Copy (2).png\n",
            "Processing image: /content/Data/train/normal/5.png\n",
            "Processing image: /content/Data/train/normal/10.png\n",
            "Processing image: /content/Data/train/normal/21 - Copy (2) - Copy.png\n",
            "Processing image: /content/Data/train/large.cell.carcinoma_left.hilum_T2_N2_M0_IIIa/000106.png\n",
            "Processing image: /content/Data/train/large.cell.carcinoma_left.hilum_T2_N2_M0_IIIa/000133.png\n",
            "Processing image: /content/Data/train/large.cell.carcinoma_left.hilum_T2_N2_M0_IIIa/000046.png\n",
            "Processing image: /content/Data/train/large.cell.carcinoma_left.hilum_T2_N2_M0_IIIa/000071 (2).png\n",
            "Processing image: /content/Data/train/large.cell.carcinoma_left.hilum_T2_N2_M0_IIIa/000150.png\n",
            "Processing image: /content/Data/train/large.cell.carcinoma_left.hilum_T2_N2_M0_IIIa/l2.png\n",
            "Processing image: /content/Data/train/large.cell.carcinoma_left.hilum_T2_N2_M0_IIIa/000041 (4).png\n",
            "Processing image: /content/Data/train/large.cell.carcinoma_left.hilum_T2_N2_M0_IIIa/000084.png\n",
            "Processing image: /content/Data/train/large.cell.carcinoma_left.hilum_T2_N2_M0_IIIa/000051.png\n",
            "Processing image: /content/Data/train/large.cell.carcinoma_left.hilum_T2_N2_M0_IIIa/000034 (2).png\n",
            "Processing image: /content/Data/train/large.cell.carcinoma_left.hilum_T2_N2_M0_IIIa/000072 (2).png\n",
            "Processing image: /content/Data/train/large.cell.carcinoma_left.hilum_T2_N2_M0_IIIa/000059 (4).png\n",
            "Processing image: /content/Data/train/large.cell.carcinoma_left.hilum_T2_N2_M0_IIIa/000106 (2).png\n",
            "Processing image: /content/Data/train/large.cell.carcinoma_left.hilum_T2_N2_M0_IIIa/000032.png\n",
            "Processing image: /content/Data/train/large.cell.carcinoma_left.hilum_T2_N2_M0_IIIa/000016 (4).png\n",
            "Processing image: /content/Data/train/large.cell.carcinoma_left.hilum_T2_N2_M0_IIIa/000009 (4).png\n",
            "Processing image: /content/Data/train/large.cell.carcinoma_left.hilum_T2_N2_M0_IIIa/000080.png\n",
            "Processing image: /content/Data/train/large.cell.carcinoma_left.hilum_T2_N2_M0_IIIa/000041 (3).png\n",
            "Processing image: /content/Data/train/large.cell.carcinoma_left.hilum_T2_N2_M0_IIIa/000039 (4).png\n",
            "Processing image: /content/Data/train/large.cell.carcinoma_left.hilum_T2_N2_M0_IIIa/000055 (4).png\n",
            "Processing image: /content/Data/train/large.cell.carcinoma_left.hilum_T2_N2_M0_IIIa/000068.png\n",
            "Processing image: /content/Data/train/large.cell.carcinoma_left.hilum_T2_N2_M0_IIIa/000094 (4).png\n",
            "Processing image: /content/Data/train/large.cell.carcinoma_left.hilum_T2_N2_M0_IIIa/000094 (3).png\n",
            "Processing image: /content/Data/train/large.cell.carcinoma_left.hilum_T2_N2_M0_IIIa/000095 (3).png\n",
            "Processing image: /content/Data/train/large.cell.carcinoma_left.hilum_T2_N2_M0_IIIa/l6.png\n",
            "Processing image: /content/Data/train/large.cell.carcinoma_left.hilum_T2_N2_M0_IIIa/000154.png\n",
            "Processing image: /content/Data/train/large.cell.carcinoma_left.hilum_T2_N2_M0_IIIa/000169.png\n",
            "Processing image: /content/Data/train/large.cell.carcinoma_left.hilum_T2_N2_M0_IIIa/000095.png\n",
            "Processing image: /content/Data/train/large.cell.carcinoma_left.hilum_T2_N2_M0_IIIa/000065 (2).png\n",
            "Processing image: /content/Data/train/large.cell.carcinoma_left.hilum_T2_N2_M0_IIIa/000059 (3).png\n",
            "Processing image: /content/Data/train/large.cell.carcinoma_left.hilum_T2_N2_M0_IIIa/000060.png\n",
            "Processing image: /content/Data/train/large.cell.carcinoma_left.hilum_T2_N2_M0_IIIa/000056 (4).png\n",
            "Processing image: /content/Data/train/large.cell.carcinoma_left.hilum_T2_N2_M0_IIIa/000056 (3).png\n",
            "Processing image: /content/Data/train/large.cell.carcinoma_left.hilum_T2_N2_M0_IIIa/000003 (4).png\n",
            "Processing image: /content/Data/train/large.cell.carcinoma_left.hilum_T2_N2_M0_IIIa/000081.png\n",
            "Processing image: /content/Data/train/large.cell.carcinoma_left.hilum_T2_N2_M0_IIIa/000058 (3).png\n",
            "Processing image: /content/Data/train/large.cell.carcinoma_left.hilum_T2_N2_M0_IIIa/000097 (2).png\n",
            "Processing image: /content/Data/train/large.cell.carcinoma_left.hilum_T2_N2_M0_IIIa/000055 (3).png\n",
            "Processing image: /content/Data/train/large.cell.carcinoma_left.hilum_T2_N2_M0_IIIa/000019 (4).png\n",
            "Processing image: /content/Data/train/large.cell.carcinoma_left.hilum_T2_N2_M0_IIIa/000042 (2).png\n",
            "Processing image: /content/Data/train/large.cell.carcinoma_left.hilum_T2_N2_M0_IIIa/000076 (3).png\n",
            "Processing image: /content/Data/train/large.cell.carcinoma_left.hilum_T2_N2_M0_IIIa/000027 (2).png\n",
            "Processing image: /content/Data/train/large.cell.carcinoma_left.hilum_T2_N2_M0_IIIa/000045.png\n",
            "Processing image: /content/Data/train/large.cell.carcinoma_left.hilum_T2_N2_M0_IIIa/000173.png\n",
            "Processing image: /content/Data/train/large.cell.carcinoma_left.hilum_T2_N2_M0_IIIa/000027.png\n",
            "Processing image: /content/Data/train/large.cell.carcinoma_left.hilum_T2_N2_M0_IIIa/000069.png\n",
            "Processing image: /content/Data/train/large.cell.carcinoma_left.hilum_T2_N2_M0_IIIa/000033 (4).png\n",
            "Processing image: /content/Data/train/large.cell.carcinoma_left.hilum_T2_N2_M0_IIIa/000017.png\n",
            "Processing image: /content/Data/train/large.cell.carcinoma_left.hilum_T2_N2_M0_IIIa/000018 (2).png\n",
            "Processing image: /content/Data/train/large.cell.carcinoma_left.hilum_T2_N2_M0_IIIa/000026.png\n",
            "Processing image: /content/Data/train/large.cell.carcinoma_left.hilum_T2_N2_M0_IIIa/000078 (3).png\n",
            "Processing image: /content/Data/train/large.cell.carcinoma_left.hilum_T2_N2_M0_IIIa/000009 (3).png\n",
            "Processing image: /content/Data/train/large.cell.carcinoma_left.hilum_T2_N2_M0_IIIa/000055.png\n",
            "Processing image: /content/Data/train/large.cell.carcinoma_left.hilum_T2_N2_M0_IIIa/000093 (3).png\n",
            "Processing image: /content/Data/train/large.cell.carcinoma_left.hilum_T2_N2_M0_IIIa/di1.png\n",
            "Processing image: /content/Data/train/large.cell.carcinoma_left.hilum_T2_N2_M0_IIIa/000105 (2).png\n",
            "Processing image: /content/Data/train/large.cell.carcinoma_left.hilum_T2_N2_M0_IIIa/000020 (3).png\n",
            "Processing image: /content/Data/train/large.cell.carcinoma_left.hilum_T2_N2_M0_IIIa/000041.png\n",
            "Processing image: /content/Data/train/large.cell.carcinoma_left.hilum_T2_N2_M0_IIIa/000010.png\n",
            "Processing image: /content/Data/train/large.cell.carcinoma_left.hilum_T2_N2_M0_IIIa/000073 (2).png\n",
            "Processing image: /content/Data/train/large.cell.carcinoma_left.hilum_T2_N2_M0_IIIa/000076 (4).png\n",
            "Processing image: /content/Data/train/large.cell.carcinoma_left.hilum_T2_N2_M0_IIIa/000093 (4).png\n",
            "Processing image: /content/Data/train/large.cell.carcinoma_left.hilum_T2_N2_M0_IIIa/000015.png\n",
            "Processing image: /content/Data/train/large.cell.carcinoma_left.hilum_T2_N2_M0_IIIa/l4.png\n",
            "Processing image: /content/Data/train/large.cell.carcinoma_left.hilum_T2_N2_M0_IIIa/000019 (3).png\n",
            "Processing image: /content/Data/train/large.cell.carcinoma_left.hilum_T2_N2_M0_IIIa/000047 (2).png\n",
            "Processing image: /content/Data/train/large.cell.carcinoma_left.hilum_T2_N2_M0_IIIa/000066.png\n",
            "Processing image: /content/Data/train/large.cell.carcinoma_left.hilum_T2_N2_M0_IIIa/000062 (4).png\n",
            "Processing image: /content/Data/train/large.cell.carcinoma_left.hilum_T2_N2_M0_IIIa/000068 (4).png\n",
            "Processing image: /content/Data/train/large.cell.carcinoma_left.hilum_T2_N2_M0_IIIa/000021.png\n",
            "Processing image: /content/Data/train/large.cell.carcinoma_left.hilum_T2_N2_M0_IIIa/000098 (4).png\n",
            "Processing image: /content/Data/train/large.cell.carcinoma_left.hilum_T2_N2_M0_IIIa/000023 (2).png\n",
            "Processing image: /content/Data/train/large.cell.carcinoma_left.hilum_T2_N2_M0_IIIa/000098 (3).png\n",
            "Processing image: /content/Data/train/large.cell.carcinoma_left.hilum_T2_N2_M0_IIIa/l1.png\n",
            "Processing image: /content/Data/train/large.cell.carcinoma_left.hilum_T2_N2_M0_IIIa/000057 (3).png\n",
            "Processing image: /content/Data/train/large.cell.carcinoma_left.hilum_T2_N2_M0_IIIa/000031 (2).png\n",
            "Processing image: /content/Data/train/large.cell.carcinoma_left.hilum_T2_N2_M0_IIIa/000040 (2).png\n",
            "Processing image: /content/Data/train/large.cell.carcinoma_left.hilum_T2_N2_M0_IIIa/000104.png\n",
            "Processing image: /content/Data/train/large.cell.carcinoma_left.hilum_T2_N2_M0_IIIa/000105.png\n",
            "Processing image: /content/Data/train/large.cell.carcinoma_left.hilum_T2_N2_M0_IIIa/000062 (2).png\n",
            "Processing image: /content/Data/train/large.cell.carcinoma_left.hilum_T2_N2_M0_IIIa/000058 (4).png\n",
            "Processing image: /content/Data/train/large.cell.carcinoma_left.hilum_T2_N2_M0_IIIa/000078 (4).png\n",
            "Processing image: /content/Data/train/large.cell.carcinoma_left.hilum_T2_N2_M0_IIIa/000016 (3).png\n",
            "Processing image: /content/Data/train/large.cell.carcinoma_left.hilum_T2_N2_M0_IIIa/l3.png\n",
            "Processing image: /content/Data/train/large.cell.carcinoma_left.hilum_T2_N2_M0_IIIa/000159.png\n",
            "Processing image: /content/Data/train/large.cell.carcinoma_left.hilum_T2_N2_M0_IIIa/000104 (2).png\n",
            "Processing image: /content/Data/train/large.cell.carcinoma_left.hilum_T2_N2_M0_IIIa/000137.png\n",
            "Processing image: /content/Data/train/large.cell.carcinoma_left.hilum_T2_N2_M0_IIIa/000057 (4).png\n",
            "Processing image: /content/Data/train/large.cell.carcinoma_left.hilum_T2_N2_M0_IIIa/000057.png\n",
            "Processing image: /content/Data/train/large.cell.carcinoma_left.hilum_T2_N2_M0_IIIa/000026 (2).png\n",
            "Processing image: /content/Data/train/large.cell.carcinoma_left.hilum_T2_N2_M0_IIIa/000024 (2).png\n",
            "Processing image: /content/Data/train/large.cell.carcinoma_left.hilum_T2_N2_M0_IIIa/000094 (2).png\n",
            "Processing image: /content/Data/train/large.cell.carcinoma_left.hilum_T2_N2_M0_IIIa/000149.png\n",
            "Processing image: /content/Data/train/large.cell.carcinoma_left.hilum_T2_N2_M0_IIIa/000095 (2).png\n",
            "Processing image: /content/Data/train/large.cell.carcinoma_left.hilum_T2_N2_M0_IIIa/000002.png\n",
            "Processing image: /content/Data/train/large.cell.carcinoma_left.hilum_T2_N2_M0_IIIa/000077.png\n",
            "Processing image: /content/Data/train/large.cell.carcinoma_left.hilum_T2_N2_M0_IIIa/000063.png\n",
            "Processing image: /content/Data/train/large.cell.carcinoma_left.hilum_T2_N2_M0_IIIa/000143.png\n",
            "Processing image: /content/Data/train/large.cell.carcinoma_left.hilum_T2_N2_M0_IIIa/000043 (2).png\n",
            "Processing image: /content/Data/train/large.cell.carcinoma_left.hilum_T2_N2_M0_IIIa/000063 (2).png\n",
            "Processing image: /content/Data/train/large.cell.carcinoma_left.hilum_T2_N2_M0_IIIa/000068 (3).png\n",
            "Processing image: /content/Data/train/large.cell.carcinoma_left.hilum_T2_N2_M0_IIIa/000031.png\n",
            "Processing image: /content/Data/train/large.cell.carcinoma_left.hilum_T2_N2_M0_IIIa/000020 (4).png\n",
            "Processing image: /content/Data/train/large.cell.carcinoma_left.hilum_T2_N2_M0_IIIa/000003 (3).png\n",
            "Processing image: /content/Data/train/large.cell.carcinoma_left.hilum_T2_N2_M0_IIIa/000089.png\n",
            "Processing image: /content/Data/train/large.cell.carcinoma_left.hilum_T2_N2_M0_IIIa/000172.png\n",
            "Processing image: /content/Data/train/large.cell.carcinoma_left.hilum_T2_N2_M0_IIIa/l5.png\n",
            "Processing image: /content/Data/train/large.cell.carcinoma_left.hilum_T2_N2_M0_IIIa/000084 (2).png\n",
            "Processing image: /content/Data/train/large.cell.carcinoma_left.hilum_T2_N2_M0_IIIa/000066 (2).png\n",
            "Processing image: /content/Data/train/large.cell.carcinoma_left.hilum_T2_N2_M0_IIIa/000062.png\n",
            "Processing image: /content/Data/train/large.cell.carcinoma_left.hilum_T2_N2_M0_IIIa/000095 (4).png\n",
            "Processing image: /content/Data/train/large.cell.carcinoma_left.hilum_T2_N2_M0_IIIa/000097.png\n",
            "Processing image: /content/Data/train/large.cell.carcinoma_left.hilum_T2_N2_M0_IIIa/000062 (3).png\n",
            "Processing image: /content/Data/train/large.cell.carcinoma_left.hilum_T2_N2_M0_IIIa/000039 (3).png\n",
            "Processing image: /content/Data/train/large.cell.carcinoma_left.hilum_T2_N2_M0_IIIa/000033 (3).png\n",
            "Processing image: /content/Data/train/adenocarcinoma_left.lower.lobe_T2_N0_M0_Ib/000021 (8).png\n",
            "Processing image: /content/Data/train/adenocarcinoma_left.lower.lobe_T2_N0_M0_Ib/000059 (7).png\n",
            "Processing image: /content/Data/train/adenocarcinoma_left.lower.lobe_T2_N0_M0_Ib/ad20.png\n",
            "Processing image: /content/Data/train/adenocarcinoma_left.lower.lobe_T2_N0_M0_Ib/000069 (6).png\n",
            "Processing image: /content/Data/train/adenocarcinoma_left.lower.lobe_T2_N0_M0_Ib/000017 (6).png\n",
            "Processing image: /content/Data/train/adenocarcinoma_left.lower.lobe_T2_N0_M0_Ib/000040 (5).png\n",
            "Processing image: /content/Data/train/adenocarcinoma_left.lower.lobe_T2_N0_M0_Ib/000041 (4).png\n",
            "Processing image: /content/Data/train/adenocarcinoma_left.lower.lobe_T2_N0_M0_Ib/000084.png\n",
            "Processing image: /content/Data/train/adenocarcinoma_left.lower.lobe_T2_N0_M0_Ib/000024 (7).png\n",
            "Processing image: /content/Data/train/adenocarcinoma_left.lower.lobe_T2_N0_M0_Ib/000029 (4).png\n",
            "Processing image: /content/Data/train/adenocarcinoma_left.lower.lobe_T2_N0_M0_Ib/000046 (5).png\n",
            "Processing image: /content/Data/train/adenocarcinoma_left.lower.lobe_T2_N0_M0_Ib/000051 (4).png\n",
            "Processing image: /content/Data/train/adenocarcinoma_left.lower.lobe_T2_N0_M0_Ib/000072 (10).png\n",
            "Processing image: /content/Data/train/adenocarcinoma_left.lower.lobe_T2_N0_M0_Ib/000081 (2).png\n",
            "Processing image: /content/Data/train/adenocarcinoma_left.lower.lobe_T2_N0_M0_Ib/000066 (10).png\n",
            "Processing image: /content/Data/train/adenocarcinoma_left.lower.lobe_T2_N0_M0_Ib/ad19.png\n",
            "Processing image: /content/Data/train/adenocarcinoma_left.lower.lobe_T2_N0_M0_Ib/000050 (8).png\n",
            "Processing image: /content/Data/train/adenocarcinoma_left.lower.lobe_T2_N0_M0_Ib/000018 (5).png\n",
            "Processing image: /content/Data/train/adenocarcinoma_left.lower.lobe_T2_N0_M0_Ib/000065 (9).png\n",
            "Processing image: /content/Data/train/adenocarcinoma_left.lower.lobe_T2_N0_M0_Ib/000090 (2).png\n",
            "Processing image: /content/Data/train/adenocarcinoma_left.lower.lobe_T2_N0_M0_Ib/000031 (3).png\n",
            "Processing image: /content/Data/train/adenocarcinoma_left.lower.lobe_T2_N0_M0_Ib/000104 (4).png\n",
            "Processing image: /content/Data/train/adenocarcinoma_left.lower.lobe_T2_N0_M0_Ib/000098 (5).png\n",
            "Processing image: /content/Data/train/adenocarcinoma_left.lower.lobe_T2_N0_M0_Ib/000054 (6).png\n",
            "Processing image: /content/Data/train/adenocarcinoma_left.lower.lobe_T2_N0_M0_Ib/000067 (10).png\n",
            "Processing image: /content/Data/train/adenocarcinoma_left.lower.lobe_T2_N0_M0_Ib/000035 (8).png\n",
            "Processing image: /content/Data/train/adenocarcinoma_left.lower.lobe_T2_N0_M0_Ib/000102 (7).png\n",
            "Processing image: /content/Data/train/adenocarcinoma_left.lower.lobe_T2_N0_M0_Ib/000023 (7).png\n",
            "Processing image: /content/Data/train/adenocarcinoma_left.lower.lobe_T2_N0_M0_Ib/000084 (7).png\n",
            "Processing image: /content/Data/train/adenocarcinoma_left.lower.lobe_T2_N0_M0_Ib/000083 (6).png\n",
            "Processing image: /content/Data/train/adenocarcinoma_left.lower.lobe_T2_N0_M0_Ib/000054 (5).png\n",
            "Processing image: /content/Data/train/adenocarcinoma_left.lower.lobe_T2_N0_M0_Ib/000016 (9).png\n",
            "Processing image: /content/Data/train/adenocarcinoma_left.lower.lobe_T2_N0_M0_Ib/000013 (8).png\n",
            "Processing image: /content/Data/train/adenocarcinoma_left.lower.lobe_T2_N0_M0_Ib/000087 (8).png\n",
            "Processing image: /content/Data/train/adenocarcinoma_left.lower.lobe_T2_N0_M0_Ib/000040 (3).png\n",
            "Processing image: /content/Data/train/adenocarcinoma_left.lower.lobe_T2_N0_M0_Ib/ad2.png\n",
            "Processing image: /content/Data/train/adenocarcinoma_left.lower.lobe_T2_N0_M0_Ib/000009 (7).png\n",
            "Processing image: /content/Data/train/adenocarcinoma_left.lower.lobe_T2_N0_M0_Ib/000017 (8).png\n",
            "Processing image: /content/Data/train/adenocarcinoma_left.lower.lobe_T2_N0_M0_Ib/000022 (9).png\n",
            "Processing image: /content/Data/train/adenocarcinoma_left.lower.lobe_T2_N0_M0_Ib/ad4.png\n",
            "Processing image: /content/Data/train/adenocarcinoma_left.lower.lobe_T2_N0_M0_Ib/000107 (9).png\n",
            "Processing image: /content/Data/train/adenocarcinoma_left.lower.lobe_T2_N0_M0_Ib/000021 (5).png\n",
            "Processing image: /content/Data/train/adenocarcinoma_left.lower.lobe_T2_N0_M0_Ib/000087 (4).png\n",
            "Processing image: /content/Data/train/adenocarcinoma_left.lower.lobe_T2_N0_M0_Ib/ad17.png\n",
            "Processing image: /content/Data/train/adenocarcinoma_left.lower.lobe_T2_N0_M0_Ib/000105 (4).png\n",
            "Processing image: /content/Data/train/adenocarcinoma_left.lower.lobe_T2_N0_M0_Ib/000040 (10).png\n",
            "Processing image: /content/Data/train/adenocarcinoma_left.lower.lobe_T2_N0_M0_Ib/000050 (3).png\n",
            "Processing image: /content/Data/train/adenocarcinoma_left.lower.lobe_T2_N0_M0_Ib/000095.png\n",
            "Processing image: /content/Data/train/adenocarcinoma_left.lower.lobe_T2_N0_M0_Ib/000118 (6).png\n",
            "Processing image: /content/Data/train/adenocarcinoma_left.lower.lobe_T2_N0_M0_Ib/000092 (10).png\n",
            "Processing image: /content/Data/train/adenocarcinoma_left.lower.lobe_T2_N0_M0_Ib/000057 (2).png\n",
            "Processing image: /content/Data/train/adenocarcinoma_left.lower.lobe_T2_N0_M0_Ib/000027 (4).png\n",
            "Processing image: /content/Data/train/adenocarcinoma_left.lower.lobe_T2_N0_M0_Ib/000105 (3).png\n",
            "Processing image: /content/Data/train/adenocarcinoma_left.lower.lobe_T2_N0_M0_Ib/000013 (4).png\n",
            "Processing image: /content/Data/train/adenocarcinoma_left.lower.lobe_T2_N0_M0_Ib/000091 (7).png\n",
            "Processing image: /content/Data/train/adenocarcinoma_left.lower.lobe_T2_N0_M0_Ib/000005 (9).png\n",
            "Processing image: /content/Data/train/adenocarcinoma_left.lower.lobe_T2_N0_M0_Ib/000026 (10).png\n",
            "Processing image: /content/Data/train/adenocarcinoma_left.lower.lobe_T2_N0_M0_Ib/000083 (3).png\n",
            "Processing image: /content/Data/train/adenocarcinoma_left.lower.lobe_T2_N0_M0_Ib/000100 (10).png\n",
            "Processing image: /content/Data/train/adenocarcinoma_left.lower.lobe_T2_N0_M0_Ib/000050 (7).png\n",
            "Processing image: /content/Data/train/adenocarcinoma_left.lower.lobe_T2_N0_M0_Ib/000097 (2).png\n",
            "Processing image: /content/Data/train/adenocarcinoma_left.lower.lobe_T2_N0_M0_Ib/000029 (5).png\n",
            "Processing image: /content/Data/train/adenocarcinoma_left.lower.lobe_T2_N0_M0_Ib/000074 (5).png\n",
            "Processing image: /content/Data/train/adenocarcinoma_left.lower.lobe_T2_N0_M0_Ib/000055 (2).png\n",
            "Processing image: /content/Data/train/adenocarcinoma_left.lower.lobe_T2_N0_M0_Ib/000071 (3).png\n",
            "Processing image: /content/Data/train/adenocarcinoma_left.lower.lobe_T2_N0_M0_Ib/000026 (3).png\n",
            "Processing image: /content/Data/train/adenocarcinoma_left.lower.lobe_T2_N0_M0_Ib/000066 (9).png\n",
            "Processing image: /content/Data/train/adenocarcinoma_left.lower.lobe_T2_N0_M0_Ib/000015 (9).png\n",
            "Processing image: /content/Data/train/adenocarcinoma_left.lower.lobe_T2_N0_M0_Ib/000015 (10).png\n",
            "Processing image: /content/Data/train/adenocarcinoma_left.lower.lobe_T2_N0_M0_Ib/000095 (6).png\n",
            "Processing image: /content/Data/train/adenocarcinoma_left.lower.lobe_T2_N0_M0_Ib/000033 (9).png\n",
            "Processing image: /content/Data/train/adenocarcinoma_left.lower.lobe_T2_N0_M0_Ib/000122.png\n",
            "Processing image: /content/Data/train/adenocarcinoma_left.lower.lobe_T2_N0_M0_Ib/000035 (4).png\n",
            "Processing image: /content/Data/train/adenocarcinoma_left.lower.lobe_T2_N0_M0_Ib/000041 (2).png\n",
            "Processing image: /content/Data/train/adenocarcinoma_left.lower.lobe_T2_N0_M0_Ib/000104 (10).png\n",
            "Processing image: /content/Data/train/adenocarcinoma_left.lower.lobe_T2_N0_M0_Ib/ad22.png\n",
            "Processing image: /content/Data/train/adenocarcinoma_left.lower.lobe_T2_N0_M0_Ib/000020 (6).png\n",
            "Processing image: /content/Data/train/adenocarcinoma_left.lower.lobe_T2_N0_M0_Ib/000063 (5).png\n",
            "Processing image: /content/Data/train/adenocarcinoma_left.lower.lobe_T2_N0_M0_Ib/000035 (5).png\n",
            "Processing image: /content/Data/train/adenocarcinoma_left.lower.lobe_T2_N0_M0_Ib/000121.png\n",
            "Processing image: /content/Data/train/adenocarcinoma_left.lower.lobe_T2_N0_M0_Ib/000068 (10).png\n",
            "Processing image: /content/Data/train/adenocarcinoma_left.lower.lobe_T2_N0_M0_Ib/ad13.png\n",
            "Processing image: /content/Data/train/adenocarcinoma_left.lower.lobe_T2_N0_M0_Ib/000102 (2).png\n",
            "Processing image: /content/Data/train/adenocarcinoma_left.lower.lobe_T2_N0_M0_Ib/000096 (7).png\n",
            "Processing image: /content/Data/train/adenocarcinoma_left.lower.lobe_T2_N0_M0_Ib/000078 (6).png\n",
            "Processing image: /content/Data/train/adenocarcinoma_left.lower.lobe_T2_N0_M0_Ib/ad14.png\n",
            "Processing image: /content/Data/train/adenocarcinoma_left.lower.lobe_T2_N0_M0_Ib/ad10.png\n",
            "Processing image: /content/Data/train/adenocarcinoma_left.lower.lobe_T2_N0_M0_Ib/000049 (9).png\n",
            "Processing image: /content/Data/train/adenocarcinoma_left.lower.lobe_T2_N0_M0_Ib/000023 (10).png\n",
            "Processing image: /content/Data/train/adenocarcinoma_left.lower.lobe_T2_N0_M0_Ib/000119 (10).png\n",
            "Processing image: /content/Data/train/adenocarcinoma_left.lower.lobe_T2_N0_M0_Ib/000023 (5).png\n",
            "Processing image: /content/Data/train/adenocarcinoma_left.lower.lobe_T2_N0_M0_Ib/ad8.png\n",
            "Processing image: /content/Data/train/adenocarcinoma_left.lower.lobe_T2_N0_M0_Ib/000025 (6).png\n",
            "Processing image: /content/Data/train/adenocarcinoma_left.lower.lobe_T2_N0_M0_Ib/000027 (6).png\n",
            "Processing image: /content/Data/train/adenocarcinoma_left.lower.lobe_T2_N0_M0_Ib/000008 (10).png\n",
            "Processing image: /content/Data/train/adenocarcinoma_left.lower.lobe_T2_N0_M0_Ib/000063 (7).png\n",
            "Processing image: /content/Data/train/adenocarcinoma_left.lower.lobe_T2_N0_M0_Ib/000019 (5).png\n",
            "Processing image: /content/Data/train/adenocarcinoma_left.lower.lobe_T2_N0_M0_Ib/000093 (10).png\n",
            "Processing image: /content/Data/train/adenocarcinoma_left.lower.lobe_T2_N0_M0_Ib/000024 (6).png\n",
            "Processing image: /content/Data/train/adenocarcinoma_left.lower.lobe_T2_N0_M0_Ib/000009 (3).png\n",
            "Processing image: /content/Data/train/adenocarcinoma_left.lower.lobe_T2_N0_M0_Ib/000075 (5).png\n",
            "Processing image: /content/Data/train/adenocarcinoma_left.lower.lobe_T2_N0_M0_Ib/000098 (8).png\n",
            "Processing image: /content/Data/train/adenocarcinoma_left.lower.lobe_T2_N0_M0_Ib/ad5.png\n",
            "Processing image: /content/Data/train/adenocarcinoma_left.lower.lobe_T2_N0_M0_Ib/000091.png\n",
            "Processing image: /content/Data/train/adenocarcinoma_left.lower.lobe_T2_N0_M0_Ib/000054.png\n",
            "Processing image: /content/Data/train/adenocarcinoma_left.lower.lobe_T2_N0_M0_Ib/000097 (10).png\n",
            "Processing image: /content/Data/train/adenocarcinoma_left.lower.lobe_T2_N0_M0_Ib/000044 (10).png\n",
            "Processing image: /content/Data/train/adenocarcinoma_left.lower.lobe_T2_N0_M0_Ib/ad12.png\n",
            "Processing image: /content/Data/train/adenocarcinoma_left.lower.lobe_T2_N0_M0_Ib/000079 (6).png\n",
            "Processing image: /content/Data/train/adenocarcinoma_left.lower.lobe_T2_N0_M0_Ib/000119 (5).png\n",
            "Processing image: /content/Data/train/adenocarcinoma_left.lower.lobe_T2_N0_M0_Ib/000121 (10).png\n",
            "Processing image: /content/Data/train/adenocarcinoma_left.lower.lobe_T2_N0_M0_Ib/000093 (4).png\n",
            "Processing image: /content/Data/train/adenocarcinoma_left.lower.lobe_T2_N0_M0_Ib/000056 (7).png\n",
            "Processing image: /content/Data/train/adenocarcinoma_left.lower.lobe_T2_N0_M0_Ib/000067.png\n",
            "Processing image: /content/Data/train/adenocarcinoma_left.lower.lobe_T2_N0_M0_Ib/ad15.png\n",
            "Processing image: /content/Data/train/adenocarcinoma_left.lower.lobe_T2_N0_M0_Ib/000029 (9).png\n",
            "Processing image: /content/Data/train/adenocarcinoma_left.lower.lobe_T2_N0_M0_Ib/000106 (4).png\n",
            "Processing image: /content/Data/train/adenocarcinoma_left.lower.lobe_T2_N0_M0_Ib/000022 (10).png\n",
            "Processing image: /content/Data/train/adenocarcinoma_left.lower.lobe_T2_N0_M0_Ib/000080 (6).png\n",
            "Processing image: /content/Data/train/adenocarcinoma_left.lower.lobe_T2_N0_M0_Ib/000097 (3).png\n",
            "Processing image: /content/Data/train/adenocarcinoma_left.lower.lobe_T2_N0_M0_Ib/000086 (8).png\n",
            "Processing image: /content/Data/train/adenocarcinoma_left.lower.lobe_T2_N0_M0_Ib/000091 (3).png\n",
            "Processing image: /content/Data/train/adenocarcinoma_left.lower.lobe_T2_N0_M0_Ib/000084 (3).png\n",
            "Processing image: /content/Data/train/adenocarcinoma_left.lower.lobe_T2_N0_M0_Ib/000036 (6).png\n",
            "Processing image: /content/Data/train/adenocarcinoma_left.lower.lobe_T2_N0_M0_Ib/ad16.png\n",
            "Processing image: /content/Data/train/adenocarcinoma_left.lower.lobe_T2_N0_M0_Ib/000058 (5).png\n",
            "Processing image: /content/Data/train/adenocarcinoma_left.lower.lobe_T2_N0_M0_Ib/000022.png\n",
            "Processing image: /content/Data/train/adenocarcinoma_left.lower.lobe_T2_N0_M0_Ib/000102 (3).png\n",
            "Processing image: /content/Data/train/adenocarcinoma_left.lower.lobe_T2_N0_M0_Ib/ad9.png\n",
            "Processing image: /content/Data/train/adenocarcinoma_left.lower.lobe_T2_N0_M0_Ib/000119 (4).png\n",
            "Processing image: /content/Data/train/adenocarcinoma_left.lower.lobe_T2_N0_M0_Ib/000049 (5).png\n",
            "Processing image: /content/Data/train/adenocarcinoma_left.lower.lobe_T2_N0_M0_Ib/000105.png\n",
            "Processing image: /content/Data/train/adenocarcinoma_left.lower.lobe_T2_N0_M0_Ib/000042 (10).png\n",
            "Processing image: /content/Data/train/adenocarcinoma_left.lower.lobe_T2_N0_M0_Ib/000020 (10).png\n",
            "Processing image: /content/Data/train/adenocarcinoma_left.lower.lobe_T2_N0_M0_Ib/ad3.png\n",
            "Processing image: /content/Data/train/adenocarcinoma_left.lower.lobe_T2_N0_M0_Ib/000024.png\n",
            "Processing image: /content/Data/train/adenocarcinoma_left.lower.lobe_T2_N0_M0_Ib/000050 (5).png\n",
            "Processing image: /content/Data/train/adenocarcinoma_left.lower.lobe_T2_N0_M0_Ib/000058 (4).png\n",
            "Processing image: /content/Data/train/adenocarcinoma_left.lower.lobe_T2_N0_M0_Ib/000063 (3).png\n",
            "Processing image: /content/Data/train/adenocarcinoma_left.lower.lobe_T2_N0_M0_Ib/000014 (7).png\n",
            "Processing image: /content/Data/train/adenocarcinoma_left.lower.lobe_T2_N0_M0_Ib/000021 (3).png\n",
            "Processing image: /content/Data/train/adenocarcinoma_left.lower.lobe_T2_N0_M0_Ib/000102.png\n",
            "Processing image: /content/Data/train/adenocarcinoma_left.lower.lobe_T2_N0_M0_Ib/000024 (10).png\n",
            "Processing image: /content/Data/train/adenocarcinoma_left.lower.lobe_T2_N0_M0_Ib/000068 (9).png\n",
            "Processing image: /content/Data/train/adenocarcinoma_left.lower.lobe_T2_N0_M0_Ib/ad21.png\n",
            "Processing image: /content/Data/train/adenocarcinoma_left.lower.lobe_T2_N0_M0_Ib/000051 (3).png\n",
            "Processing image: /content/Data/train/adenocarcinoma_left.lower.lobe_T2_N0_M0_Ib/000000 (6).png\n",
            "Processing image: /content/Data/train/adenocarcinoma_left.lower.lobe_T2_N0_M0_Ib/000077 (9).png\n",
            "Processing image: /content/Data/train/adenocarcinoma_left.lower.lobe_T2_N0_M0_Ib/000103 (9).png\n",
            "Processing image: /content/Data/train/adenocarcinoma_left.lower.lobe_T2_N0_M0_Ib/000118 (4).png\n",
            "Processing image: /content/Data/train/adenocarcinoma_left.lower.lobe_T2_N0_M0_Ib/000099 (7).png\n",
            "Processing image: /content/Data/train/adenocarcinoma_left.lower.lobe_T2_N0_M0_Ib/000057.png\n",
            "Processing image: /content/Data/train/adenocarcinoma_left.lower.lobe_T2_N0_M0_Ib/000065 (8).png\n",
            "Processing image: /content/Data/train/adenocarcinoma_left.lower.lobe_T2_N0_M0_Ib/000015 (4).png\n",
            "Processing image: /content/Data/train/adenocarcinoma_left.lower.lobe_T2_N0_M0_Ib/000044 (9).png\n",
            "Processing image: /content/Data/train/adenocarcinoma_left.lower.lobe_T2_N0_M0_Ib/000041 (8).png\n",
            "Processing image: /content/Data/train/adenocarcinoma_left.lower.lobe_T2_N0_M0_Ib/000022 (2).png\n",
            "Processing image: /content/Data/train/adenocarcinoma_left.lower.lobe_T2_N0_M0_Ib/000030 (4).png\n",
            "Processing image: /content/Data/train/adenocarcinoma_left.lower.lobe_T2_N0_M0_Ib/000085 (10).png\n",
            "Processing image: /content/Data/train/adenocarcinoma_left.lower.lobe_T2_N0_M0_Ib/000032 (8).png\n",
            "Processing image: /content/Data/train/adenocarcinoma_left.lower.lobe_T2_N0_M0_Ib/000052 (10).png\n",
            "Processing image: /content/Data/train/adenocarcinoma_left.lower.lobe_T2_N0_M0_Ib/000106 (10).png\n",
            "Processing image: /content/Data/train/adenocarcinoma_left.lower.lobe_T2_N0_M0_Ib/ad18.png\n",
            "Processing image: /content/Data/train/adenocarcinoma_left.lower.lobe_T2_N0_M0_Ib/000093 (6).png\n",
            "Processing image: /content/Data/train/adenocarcinoma_left.lower.lobe_T2_N0_M0_Ib/000041 (7).png\n",
            "Processing image: /content/Data/train/adenocarcinoma_left.lower.lobe_T2_N0_M0_Ib/000085 (4).png\n",
            "Processing image: /content/Data/train/adenocarcinoma_left.lower.lobe_T2_N0_M0_Ib/000048 (8).png\n",
            "Processing image: /content/Data/train/adenocarcinoma_left.lower.lobe_T2_N0_M0_Ib/ad11.png\n",
            "Processing image: /content/Data/train/adenocarcinoma_left.lower.lobe_T2_N0_M0_Ib/000077 (6).png\n",
            "Processing image: /content/Data/train/adenocarcinoma_left.lower.lobe_T2_N0_M0_Ib/ad6.png\n",
            "Processing image: /content/Data/train/adenocarcinoma_left.lower.lobe_T2_N0_M0_Ib/000085 (7).png\n",
            "Processing image: /content/Data/train/adenocarcinoma_left.lower.lobe_T2_N0_M0_Ib/000036 (7).png\n",
            "Processing image: /content/Data/train/adenocarcinoma_left.lower.lobe_T2_N0_M0_Ib/000106 (8).png\n",
            "Processing image: /content/Data/train/adenocarcinoma_left.lower.lobe_T2_N0_M0_Ib/000048.png\n",
            "Processing image: /content/Data/train/adenocarcinoma_left.lower.lobe_T2_N0_M0_Ib/000086 (3).png\n",
            "Processing image: /content/Data/train/adenocarcinoma_left.lower.lobe_T2_N0_M0_Ib/000035 (6).png\n",
            "Processing image: /content/Data/train/adenocarcinoma_left.lower.lobe_T2_N0_M0_Ib/000034 (6).png\n",
            "Processing image: /content/Data/train/adenocarcinoma_left.lower.lobe_T2_N0_M0_Ib/000068 (3).png\n",
            "Processing image: /content/Data/train/adenocarcinoma_left.lower.lobe_T2_N0_M0_Ib/000054 (7).png\n",
            "Processing image: /content/Data/train/adenocarcinoma_left.lower.lobe_T2_N0_M0_Ib/000021 (4).png\n",
            "Processing image: /content/Data/train/adenocarcinoma_left.lower.lobe_T2_N0_M0_Ib/ad1.png\n",
            "Processing image: /content/Data/train/adenocarcinoma_left.lower.lobe_T2_N0_M0_Ib/000119 (6).png\n",
            "Processing image: /content/Data/train/adenocarcinoma_left.lower.lobe_T2_N0_M0_Ib/000121 (9).png\n",
            "Processing image: /content/Data/train/adenocarcinoma_left.lower.lobe_T2_N0_M0_Ib/000023 (9).png\n",
            "Processing image: /content/Data/train/adenocarcinoma_left.lower.lobe_T2_N0_M0_Ib/000061.png\n",
            "Processing image: /content/Data/train/adenocarcinoma_left.lower.lobe_T2_N0_M0_Ib/000101 (7).png\n",
            "Processing image: /content/Data/train/adenocarcinoma_left.lower.lobe_T2_N0_M0_Ib/000065 (3).png\n",
            "Processing image: /content/Data/train/adenocarcinoma_left.lower.lobe_T2_N0_M0_Ib/000080 (10).png\n",
            "Processing image: /content/Data/train/adenocarcinoma_left.lower.lobe_T2_N0_M0_Ib/000020 (5).png\n",
            "Processing image: /content/Data/train/adenocarcinoma_left.lower.lobe_T2_N0_M0_Ib/000084 (2).png\n",
            "Processing image: /content/Data/train/adenocarcinoma_left.lower.lobe_T2_N0_M0_Ib/000005 (3).png\n",
            "Processing image: /content/Data/train/adenocarcinoma_left.lower.lobe_T2_N0_M0_Ib/ad7.png\n",
            "Processing image: /content/Data/train/adenocarcinoma_left.lower.lobe_T2_N0_M0_Ib/000022 (8).png\n",
            "Processing image: /content/Data/train/adenocarcinoma_left.lower.lobe_T2_N0_M0_Ib/000021 (6).png\n",
            "Processing image: /content/Data/train/adenocarcinoma_left.lower.lobe_T2_N0_M0_Ib/000089 (8).png\n",
            "Processing image: /content/Data/valid/squamous.cell.carcinoma_left.hilum_T1_N2_M0_IIIa/000108 (3).png\n",
            "Processing image: /content/Data/valid/squamous.cell.carcinoma_left.hilum_T1_N2_M0_IIIa/000115 (2).png\n",
            "Processing image: /content/Data/valid/squamous.cell.carcinoma_left.hilum_T1_N2_M0_IIIa/000112.png\n",
            "Processing image: /content/Data/valid/squamous.cell.carcinoma_left.hilum_T1_N2_M0_IIIa/000119.png\n",
            "Processing image: /content/Data/valid/squamous.cell.carcinoma_left.hilum_T1_N2_M0_IIIa/000114 (4).png\n",
            "Processing image: /content/Data/valid/squamous.cell.carcinoma_left.hilum_T1_N2_M0_IIIa/000116 (2).png\n",
            "Processing image: /content/Data/valid/squamous.cell.carcinoma_left.hilum_T1_N2_M0_IIIa/000117 (4).png\n",
            "Processing image: /content/Data/valid/squamous.cell.carcinoma_left.hilum_T1_N2_M0_IIIa/000117 (6).png\n",
            "Processing image: /content/Data/valid/squamous.cell.carcinoma_left.hilum_T1_N2_M0_IIIa/000119 (5).png\n",
            "Processing image: /content/Data/valid/squamous.cell.carcinoma_left.hilum_T1_N2_M0_IIIa/000111.png\n",
            "Processing image: /content/Data/valid/squamous.cell.carcinoma_left.hilum_T1_N2_M0_IIIa/000118 (4).png\n",
            "Processing image: /content/Data/valid/squamous.cell.carcinoma_left.hilum_T1_N2_M0_IIIa/000115 (5).png\n",
            "Processing image: /content/Data/valid/squamous.cell.carcinoma_left.hilum_T1_N2_M0_IIIa/000114 (6).png\n",
            "Processing image: /content/Data/valid/squamous.cell.carcinoma_left.hilum_T1_N2_M0_IIIa/000118 (5).png\n",
            "Processing image: /content/Data/valid/squamous.cell.carcinoma_left.hilum_T1_N2_M0_IIIa/000110 (6).png\n",
            "Processing image: /content/Data/valid/normal/6 - Copy (2) - Copy.png\n",
            "Processing image: /content/Data/valid/normal/7.png\n",
            "Processing image: /content/Data/valid/normal/7 - Copy (2).png\n",
            "Processing image: /content/Data/valid/normal/6 - Copy (3).png\n",
            "Processing image: /content/Data/valid/normal/004007_01_01_519.png\n",
            "Processing image: /content/Data/valid/normal/003828_02_01_174.png\n",
            "Processing image: /content/Data/valid/normal/004162_01_01_150.png\n",
            "Processing image: /content/Data/valid/normal/7 - Copy (3).png\n",
            "Processing image: /content/Data/valid/normal/8 - Copy (3).png\n",
            "Processing image: /content/Data/valid/normal/4 (2).png\n",
            "Processing image: /content/Data/valid/normal/6 - Copy.png\n",
            "Processing image: /content/Data/valid/normal/4 - Copy (2).png\n",
            "Processing image: /content/Data/valid/normal/5.png\n",
            "Processing image: /content/Data/valid/large.cell.carcinoma_left.hilum_T2_N2_M0_IIIa/000112.png\n",
            "Processing image: /content/Data/valid/large.cell.carcinoma_left.hilum_T2_N2_M0_IIIa/000126.png\n",
            "Processing image: /content/Data/valid/large.cell.carcinoma_left.hilum_T2_N2_M0_IIIa/000108 (2).png\n",
            "Processing image: /content/Data/valid/large.cell.carcinoma_left.hilum_T2_N2_M0_IIIa/000109.png\n",
            "Processing image: /content/Data/valid/large.cell.carcinoma_left.hilum_T2_N2_M0_IIIa/000131.png\n",
            "Processing image: /content/Data/valid/large.cell.carcinoma_left.hilum_T2_N2_M0_IIIa/000115.png\n",
            "Processing image: /content/Data/valid/large.cell.carcinoma_left.hilum_T2_N2_M0_IIIa/000122.png\n",
            "Processing image: /content/Data/valid/large.cell.carcinoma_left.hilum_T2_N2_M0_IIIa/000110 (2).png\n",
            "Processing image: /content/Data/valid/large.cell.carcinoma_left.hilum_T2_N2_M0_IIIa/000113 (2).png\n",
            "Processing image: /content/Data/valid/large.cell.carcinoma_left.hilum_T2_N2_M0_IIIa/000118 (2).png\n",
            "Processing image: /content/Data/valid/large.cell.carcinoma_left.hilum_T2_N2_M0_IIIa/000113.png\n",
            "Processing image: /content/Data/valid/large.cell.carcinoma_left.hilum_T2_N2_M0_IIIa/000120.png\n",
            "Processing image: /content/Data/valid/large.cell.carcinoma_left.hilum_T2_N2_M0_IIIa/000111 (2).png\n",
            "Processing image: /content/Data/valid/large.cell.carcinoma_left.hilum_T2_N2_M0_IIIa/000130.png\n",
            "Processing image: /content/Data/valid/large.cell.carcinoma_left.hilum_T2_N2_M0_IIIa/000111.png\n",
            "Processing image: /content/Data/valid/large.cell.carcinoma_left.hilum_T2_N2_M0_IIIa/000115 (3).png\n",
            "Processing image: /content/Data/valid/large.cell.carcinoma_left.hilum_T2_N2_M0_IIIa/000116.png\n",
            "Processing image: /content/Data/valid/large.cell.carcinoma_left.hilum_T2_N2_M0_IIIa/000110.png\n",
            "Processing image: /content/Data/valid/large.cell.carcinoma_left.hilum_T2_N2_M0_IIIa/000114.png\n",
            "Processing image: /content/Data/valid/large.cell.carcinoma_left.hilum_T2_N2_M0_IIIa/000128.png\n",
            "Processing image: /content/Data/valid/large.cell.carcinoma_left.hilum_T2_N2_M0_IIIa/000108.png\n",
            "Processing image: /content/Data/valid/adenocarcinoma_left.lower.lobe_T2_N0_M0_Ib/000114 (10).png\n",
            "Processing image: /content/Data/valid/adenocarcinoma_left.lower.lobe_T2_N0_M0_Ib/000108 (7).png\n",
            "Processing image: /content/Data/valid/adenocarcinoma_left.lower.lobe_T2_N0_M0_Ib/000116 (3).png\n",
            "Processing image: /content/Data/valid/adenocarcinoma_left.lower.lobe_T2_N0_M0_Ib/000112 (2).png\n",
            "Processing image: /content/Data/valid/adenocarcinoma_left.lower.lobe_T2_N0_M0_Ib/000115 (2).png\n",
            "Processing image: /content/Data/valid/adenocarcinoma_left.lower.lobe_T2_N0_M0_Ib/000108 (8).png\n",
            "Processing image: /content/Data/valid/adenocarcinoma_left.lower.lobe_T2_N0_M0_Ib/000109 (4).png\n",
            "Processing image: /content/Data/valid/adenocarcinoma_left.lower.lobe_T2_N0_M0_Ib/000115.png\n",
            "Processing image: /content/Data/valid/adenocarcinoma_left.lower.lobe_T2_N0_M0_Ib/000116 (8).png\n",
            "Processing image: /content/Data/valid/adenocarcinoma_left.lower.lobe_T2_N0_M0_Ib/000115 (9).png\n",
            "Processing image: /content/Data/valid/adenocarcinoma_left.lower.lobe_T2_N0_M0_Ib/000113.png\n",
            "Processing image: /content/Data/valid/adenocarcinoma_left.lower.lobe_T2_N0_M0_Ib/000116 (9).png\n",
            "Processing image: /content/Data/valid/adenocarcinoma_left.lower.lobe_T2_N0_M0_Ib/000117 (6).png\n",
            "Processing image: /content/Data/valid/adenocarcinoma_left.lower.lobe_T2_N0_M0_Ib/000111 (2).png\n",
            "Processing image: /content/Data/valid/adenocarcinoma_left.lower.lobe_T2_N0_M0_Ib/000113 (3).png\n",
            "Processing image: /content/Data/valid/adenocarcinoma_left.lower.lobe_T2_N0_M0_Ib/000110 (7).png\n",
            "Processing image: /content/Data/valid/adenocarcinoma_left.lower.lobe_T2_N0_M0_Ib/000116 (5).png\n",
            "Processing image: /content/Data/valid/adenocarcinoma_left.lower.lobe_T2_N0_M0_Ib/000114.png\n",
            "Processing image: /content/Data/valid/adenocarcinoma_left.lower.lobe_T2_N0_M0_Ib/000115 (5).png\n",
            "Processing image: /content/Data/valid/adenocarcinoma_left.lower.lobe_T2_N0_M0_Ib/000112 (9).png\n",
            "Processing image: /content/Data/valid/adenocarcinoma_left.lower.lobe_T2_N0_M0_Ib/000109 (3).png\n",
            "Processing image: /content/Data/valid/adenocarcinoma_left.lower.lobe_T2_N0_M0_Ib/000117.png\n",
            "Processing image: /content/Data/valid/adenocarcinoma_left.lower.lobe_T2_N0_M0_Ib/000109 (8).png\n",
            "Processing image: /content/Data/test/squamous.cell.carcinoma/000177 (3).png\n",
            "Processing image: /content/Data/test/squamous.cell.carcinoma/000145 (6).png\n",
            "Processing image: /content/Data/test/squamous.cell.carcinoma/000115 (4).png\n",
            "Processing image: /content/Data/test/squamous.cell.carcinoma/000139 (4).png\n",
            "Processing image: /content/Data/test/squamous.cell.carcinoma/000139 (5).png\n",
            "Processing image: /content/Data/test/squamous.cell.carcinoma/000127 (2).png\n",
            "Processing image: /content/Data/test/squamous.cell.carcinoma/000148 (4).png\n",
            "Processing image: /content/Data/test/squamous.cell.carcinoma/000124 (4).png\n",
            "Processing image: /content/Data/test/squamous.cell.carcinoma/000121 (5).png\n",
            "Processing image: /content/Data/test/squamous.cell.carcinoma/000166 (4).png\n",
            "Processing image: /content/Data/test/squamous.cell.carcinoma/000112.png\n",
            "Processing image: /content/Data/test/squamous.cell.carcinoma/000136 (4).png\n",
            "Processing image: /content/Data/test/squamous.cell.carcinoma/000125 (2).png\n",
            "Processing image: /content/Data/test/squamous.cell.carcinoma/000151.png\n",
            "Processing image: /content/Data/test/squamous.cell.carcinoma/000124.png\n",
            "Processing image: /content/Data/test/squamous.cell.carcinoma/000154 (2).png\n",
            "Processing image: /content/Data/test/squamous.cell.carcinoma/000167 (2).png\n",
            "Processing image: /content/Data/test/squamous.cell.carcinoma/000131 (6).png\n",
            "Processing image: /content/Data/test/squamous.cell.carcinoma/000155 (3).png\n",
            "Processing image: /content/Data/test/squamous.cell.carcinoma/000120 (3).png\n",
            "Processing image: /content/Data/test/squamous.cell.carcinoma/000133 (3).png\n",
            "Processing image: /content/Data/test/squamous.cell.carcinoma/000119.png\n",
            "Processing image: /content/Data/test/squamous.cell.carcinoma/000142 (5).png\n",
            "Processing image: /content/Data/test/squamous.cell.carcinoma/000149 (4).png\n",
            "Processing image: /content/Data/test/squamous.cell.carcinoma/000163 (6).png\n",
            "Processing image: /content/Data/test/squamous.cell.carcinoma/000122.png\n",
            "Processing image: /content/Data/test/squamous.cell.carcinoma/000121.png\n",
            "Processing image: /content/Data/test/squamous.cell.carcinoma/000110 (2).png\n",
            "Processing image: /content/Data/test/squamous.cell.carcinoma/000120 (2).png\n",
            "Processing image: /content/Data/test/squamous.cell.carcinoma/000117 (2).png\n",
            "Processing image: /content/Data/test/squamous.cell.carcinoma/000174 (3).png\n",
            "Processing image: /content/Data/test/squamous.cell.carcinoma/000144 (5).png\n",
            "Processing image: /content/Data/test/squamous.cell.carcinoma/000108 (6).png\n",
            "Processing image: /content/Data/test/squamous.cell.carcinoma/000154 (3).png\n",
            "Processing image: /content/Data/test/squamous.cell.carcinoma/000160 (4).png\n",
            "Processing image: /content/Data/test/squamous.cell.carcinoma/000125.png\n",
            "Processing image: /content/Data/test/squamous.cell.carcinoma/000130 (4).png\n",
            "Processing image: /content/Data/test/squamous.cell.carcinoma/000162 (2).png\n",
            "Processing image: /content/Data/test/squamous.cell.carcinoma/000155.png\n",
            "Processing image: /content/Data/test/squamous.cell.carcinoma/000117 (3).png\n",
            "Processing image: /content/Data/test/squamous.cell.carcinoma/000163 (4).png\n",
            "Processing image: /content/Data/test/squamous.cell.carcinoma/000164 (5).png\n",
            "Processing image: /content/Data/test/squamous.cell.carcinoma/000148 (3).png\n",
            "Processing image: /content/Data/test/squamous.cell.carcinoma/000114 (2).png\n",
            "Processing image: /content/Data/test/squamous.cell.carcinoma/000125 (6).png\n",
            "Processing image: /content/Data/test/squamous.cell.carcinoma/000127 (6).png\n",
            "Processing image: /content/Data/test/squamous.cell.carcinoma/000146 (6).png\n",
            "Processing image: /content/Data/test/squamous.cell.carcinoma/000141 (2).png\n",
            "Processing image: /content/Data/test/squamous.cell.carcinoma/000111.png\n",
            "Processing image: /content/Data/test/squamous.cell.carcinoma/000158 (4).png\n",
            "Processing image: /content/Data/test/squamous.cell.carcinoma/000129 (2).png\n",
            "Processing image: /content/Data/test/squamous.cell.carcinoma/000122 (6).png\n",
            "Processing image: /content/Data/test/squamous.cell.carcinoma/000135 (4).png\n",
            "Processing image: /content/Data/test/squamous.cell.carcinoma/000153.png\n",
            "Processing image: /content/Data/test/squamous.cell.carcinoma/000118 (3).png\n",
            "Processing image: /content/Data/test/squamous.cell.carcinoma/000116 (5).png\n",
            "Processing image: /content/Data/test/squamous.cell.carcinoma/000119 (4).png\n",
            "Processing image: /content/Data/test/squamous.cell.carcinoma/000120 (5).png\n",
            "Processing image: /content/Data/test/squamous.cell.carcinoma/000136 (6).png\n",
            "Processing image: /content/Data/test/squamous.cell.carcinoma/000157 (6).png\n",
            "Processing image: /content/Data/test/squamous.cell.carcinoma/000114 (3).png\n",
            "Processing image: /content/Data/test/squamous.cell.carcinoma/000153 (4).png\n",
            "Processing image: /content/Data/test/squamous.cell.carcinoma/000153 (3).png\n",
            "Processing image: /content/Data/test/squamous.cell.carcinoma/000137.png\n",
            "Processing image: /content/Data/test/squamous.cell.carcinoma/000118 (4).png\n",
            "Processing image: /content/Data/test/squamous.cell.carcinoma/000137 (3).png\n",
            "Processing image: /content/Data/test/squamous.cell.carcinoma/000162.png\n",
            "Processing image: /content/Data/test/squamous.cell.carcinoma/000169 (6).png\n",
            "Processing image: /content/Data/test/squamous.cell.carcinoma/000158 (6).png\n",
            "Processing image: /content/Data/test/squamous.cell.carcinoma/000142 (6).png\n",
            "Processing image: /content/Data/test/squamous.cell.carcinoma/000139 (6).png\n",
            "Processing image: /content/Data/test/squamous.cell.carcinoma/000134 (5).png\n",
            "Processing image: /content/Data/test/squamous.cell.carcinoma/000163 (5).png\n",
            "Processing image: /content/Data/test/squamous.cell.carcinoma/000117 (5).png\n",
            "Processing image: /content/Data/test/squamous.cell.carcinoma/000115 (5).png\n",
            "Processing image: /content/Data/test/squamous.cell.carcinoma/000159 (5).png\n",
            "Processing image: /content/Data/test/squamous.cell.carcinoma/000129 (6).png\n",
            "Processing image: /content/Data/test/squamous.cell.carcinoma/000135.png\n",
            "Processing image: /content/Data/test/squamous.cell.carcinoma/000124 (5).png\n",
            "Processing image: /content/Data/test/squamous.cell.carcinoma/000141 (4).png\n",
            "Processing image: /content/Data/test/squamous.cell.carcinoma/000170 (2).png\n",
            "Processing image: /content/Data/test/squamous.cell.carcinoma/000151 (6).png\n",
            "Processing image: /content/Data/test/squamous.cell.carcinoma/000126 (4).png\n",
            "Processing image: /content/Data/test/squamous.cell.carcinoma/000154 (4).png\n",
            "Processing image: /content/Data/test/squamous.cell.carcinoma/000156 (2).png\n",
            "Processing image: /content/Data/test/squamous.cell.carcinoma/000132 (4).png\n",
            "Processing image: /content/Data/test/squamous.cell.carcinoma/000127.png\n",
            "Processing image: /content/Data/test/squamous.cell.carcinoma/000133 (2).png\n",
            "Processing image: /content/Data/test/squamous.cell.carcinoma/000168 (2).png\n",
            "Processing image: /content/Data/test/squamous.cell.carcinoma/000172 (6).png\n",
            "Processing image: /content/Data/test/large.cell.carcinoma/000133.png\n",
            "Processing image: /content/Data/test/large.cell.carcinoma/000150.png\n",
            "Processing image: /content/Data/test/large.cell.carcinoma/000127 (2).png\n",
            "Processing image: /content/Data/test/large.cell.carcinoma/000170.png\n",
            "Processing image: /content/Data/test/large.cell.carcinoma/000115 (2).png\n",
            "Processing image: /content/Data/test/large.cell.carcinoma/000126.png\n",
            "Processing image: /content/Data/test/large.cell.carcinoma/000154 (2).png\n",
            "Processing image: /content/Data/test/large.cell.carcinoma/000154.png\n",
            "Processing image: /content/Data/test/large.cell.carcinoma/000169.png\n",
            "Processing image: /content/Data/test/large.cell.carcinoma/000131 (2).png\n",
            "Processing image: /content/Data/test/large.cell.carcinoma/000148.png\n",
            "Processing image: /content/Data/test/large.cell.carcinoma/000171.png\n",
            "Processing image: /content/Data/test/large.cell.carcinoma/000131.png\n",
            "Processing image: /content/Data/test/large.cell.carcinoma/000160.png\n",
            "Processing image: /content/Data/test/large.cell.carcinoma/000122.png\n",
            "Processing image: /content/Data/test/large.cell.carcinoma/000173.png\n",
            "Processing image: /content/Data/test/large.cell.carcinoma/000113 (2).png\n",
            "Processing image: /content/Data/test/large.cell.carcinoma/000163.png\n",
            "Processing image: /content/Data/test/large.cell.carcinoma/000141.png\n",
            "Processing image: /content/Data/test/large.cell.carcinoma/000113.png\n",
            "Processing image: /content/Data/test/large.cell.carcinoma/000120.png\n",
            "Processing image: /content/Data/test/large.cell.carcinoma/000132 (2).png\n",
            "Processing image: /content/Data/test/large.cell.carcinoma/000124 (2).png\n",
            "Processing image: /content/Data/test/large.cell.carcinoma/000159 (2).png\n",
            "Processing image: /content/Data/test/large.cell.carcinoma/000155.png\n",
            "Processing image: /content/Data/test/large.cell.carcinoma/000111 (2).png\n",
            "Processing image: /content/Data/test/large.cell.carcinoma/000130.png\n",
            "Processing image: /content/Data/test/large.cell.carcinoma/000172 (2).png\n",
            "Processing image: /content/Data/test/large.cell.carcinoma/000173 (2).png\n",
            "Processing image: /content/Data/test/large.cell.carcinoma/000128 (2).png\n",
            "Processing image: /content/Data/test/large.cell.carcinoma/000111.png\n",
            "Processing image: /content/Data/test/large.cell.carcinoma/000147 (2).png\n",
            "Processing image: /content/Data/test/large.cell.carcinoma/000116.png\n",
            "Processing image: /content/Data/test/large.cell.carcinoma/000110.png\n",
            "Processing image: /content/Data/test/large.cell.carcinoma/000114.png\n",
            "Processing image: /content/Data/test/large.cell.carcinoma/000159.png\n",
            "Processing image: /content/Data/test/large.cell.carcinoma/000137.png\n",
            "Processing image: /content/Data/test/large.cell.carcinoma/000128.png\n",
            "Processing image: /content/Data/test/large.cell.carcinoma/000162.png\n",
            "Processing image: /content/Data/test/large.cell.carcinoma/000136 (2).png\n",
            "Processing image: /content/Data/test/large.cell.carcinoma/000149.png\n",
            "Processing image: /content/Data/test/large.cell.carcinoma/000108.png\n",
            "Processing image: /content/Data/test/large.cell.carcinoma/000123.png\n",
            "Processing image: /content/Data/test/large.cell.carcinoma/000143.png\n",
            "Processing image: /content/Data/test/large.cell.carcinoma/000118.png\n",
            "Processing image: /content/Data/test/large.cell.carcinoma/000158.png\n",
            "Processing image: /content/Data/test/large.cell.carcinoma/000174.png\n",
            "Processing image: /content/Data/test/large.cell.carcinoma/000138 (2).png\n",
            "Processing image: /content/Data/test/large.cell.carcinoma/000172.png\n",
            "Processing image: /content/Data/test/large.cell.carcinoma/000148 (2).png\n",
            "Processing image: /content/Data/test/large.cell.carcinoma/000133 (2).png\n",
            "Processing image: /content/Data/test/normal/6 - Copy (2) - Copy.png\n",
            "Processing image: /content/Data/test/normal/7.png\n",
            "Processing image: /content/Data/test/normal/7 - Copy (2).png\n",
            "Processing image: /content/Data/test/normal/6 - Copy (3).png\n",
            "Processing image: /content/Data/test/normal/8 (2) - Copy.png\n",
            "Processing image: /content/Data/test/normal/22.png\n",
            "Processing image: /content/Data/test/normal/11 - Copy - Copy.png\n",
            "Processing image: /content/Data/test/normal/12 - Copy - Copy.png\n",
            "Processing image: /content/Data/test/normal/6 (2) - Copy.png\n",
            "Processing image: /content/Data/test/normal/8 - Copy.png\n",
            "Processing image: /content/Data/test/normal/12 - Copy.png\n",
            "Processing image: /content/Data/test/normal/12 (2) - Copy.png\n",
            "Processing image: /content/Data/test/normal/6 - Copy (2).png\n",
            "Processing image: /content/Data/test/normal/7 (2) - Copy.png\n",
            "Processing image: /content/Data/test/normal/24 - Copy.png\n",
            "Processing image: /content/Data/test/normal/12 - Copy (2) - Copy.png\n",
            "Processing image: /content/Data/test/normal/12 - Copy (2).png\n",
            "Processing image: /content/Data/test/normal/11.png\n",
            "Processing image: /content/Data/test/normal/normal - Copy.png\n",
            "Processing image: /content/Data/test/normal/8 (2).png\n",
            "Processing image: /content/Data/test/normal/normal.png\n",
            "Processing image: /content/Data/test/normal/24.png\n",
            "Processing image: /content/Data/test/normal/10 - Copy (3).png\n",
            "Processing image: /content/Data/test/normal/10 (2).png\n",
            "Processing image: /content/Data/test/normal/10 - Copy.png\n",
            "Processing image: /content/Data/test/normal/7 - Copy (2) - Copy.png\n",
            "Processing image: /content/Data/test/normal/11 (2) - Copy.png\n",
            "Processing image: /content/Data/test/normal/12 - Copy (3).png\n",
            "Processing image: /content/Data/test/normal/10 - Copy (2) - Copy.png\n",
            "Processing image: /content/Data/test/normal/11 - Copy (2) - Copy.png\n",
            "Processing image: /content/Data/test/normal/7 (2).png\n",
            "Processing image: /content/Data/test/normal/8.png\n",
            "Processing image: /content/Data/test/normal/8 - Copy (2) - Copy.png\n",
            "Processing image: /content/Data/test/normal/7 - Copy (3).png\n",
            "Processing image: /content/Data/test/normal/7 - Copy.png\n",
            "Processing image: /content/Data/test/normal/6.png\n",
            "Processing image: /content/Data/test/normal/23.png\n",
            "Processing image: /content/Data/test/normal/8 - Copy (3).png\n",
            "Processing image: /content/Data/test/normal/11 - Copy.png\n",
            "Processing image: /content/Data/test/normal/6 (2).png\n",
            "Processing image: /content/Data/test/normal/11 - Copy (2).png\n",
            "Processing image: /content/Data/test/normal/10 (2) - Copy.png\n",
            "Processing image: /content/Data/test/normal/11 - Copy (3).png\n",
            "Processing image: /content/Data/test/normal/10 - Copy (2).png\n",
            "Processing image: /content/Data/test/normal/10 - Copy - Copy.png\n",
            "Processing image: /content/Data/test/normal/8 - Copy - Copy.png\n",
            "Processing image: /content/Data/test/normal/11 (2).png\n",
            "Processing image: /content/Data/test/normal/6 - Copy.png\n",
            "Processing image: /content/Data/test/normal/25.png\n",
            "Processing image: /content/Data/test/normal/8 - Copy (2).png\n",
            "Processing image: /content/Data/test/normal/7 - Copy - Copy.png\n",
            "Processing image: /content/Data/test/normal/12 (2).png\n",
            "Processing image: /content/Data/test/normal/10.png\n",
            "Processing image: /content/Data/test/normal/21.png\n",
            "Processing image: /content/Data/test/adenocarcinoma/000115 (4).png\n",
            "Processing image: /content/Data/test/adenocarcinoma/000108 (3).png\n",
            "Processing image: /content/Data/test/adenocarcinoma/000129 (5).png\n",
            "Processing image: /content/Data/test/adenocarcinoma/000130 (6).png\n",
            "Processing image: /content/Data/test/adenocarcinoma/000118 (7).png\n",
            "Processing image: /content/Data/test/adenocarcinoma/000139 (5).png\n",
            "Processing image: /content/Data/test/adenocarcinoma/000124 (6).png\n",
            "Processing image: /content/Data/test/adenocarcinoma/000158 (2).png\n",
            "Processing image: /content/Data/test/adenocarcinoma/000123 (9).png\n",
            "Processing image: /content/Data/test/adenocarcinoma/000144 (2).png\n",
            "Processing image: /content/Data/test/adenocarcinoma/000145 (9).png\n",
            "Processing image: /content/Data/test/adenocarcinoma/000112 (2).png\n",
            "Processing image: /content/Data/test/adenocarcinoma/000166 (4).png\n",
            "Processing image: /content/Data/test/adenocarcinoma/000163 (3).png\n",
            "Processing image: /content/Data/test/adenocarcinoma/000136 (8).png\n",
            "Processing image: /content/Data/test/adenocarcinoma/000137 (4).png\n",
            "Processing image: /content/Data/test/adenocarcinoma/000177.png\n",
            "Processing image: /content/Data/test/adenocarcinoma/000148 (8).png\n",
            "Processing image: /content/Data/test/adenocarcinoma/000121 (7).png\n",
            "Processing image: /content/Data/test/adenocarcinoma/000125 (8).png\n",
            "Processing image: /content/Data/test/adenocarcinoma/000125 (2).png\n",
            "Processing image: /content/Data/test/adenocarcinoma/000117 (8).png\n",
            "Processing image: /content/Data/test/adenocarcinoma/000147.png\n",
            "Processing image: /content/Data/test/adenocarcinoma/000166 (3).png\n",
            "Processing image: /content/Data/test/adenocarcinoma/000158 (3).png\n",
            "Processing image: /content/Data/test/adenocarcinoma/000176 (2).png\n",
            "Processing image: /content/Data/test/adenocarcinoma/000132 (7).png\n",
            "Processing image: /content/Data/test/adenocarcinoma/000151 (5).png\n",
            "Processing image: /content/Data/test/adenocarcinoma/000157 (5).png\n",
            "Processing image: /content/Data/test/adenocarcinoma/000146 (3).png\n",
            "Processing image: /content/Data/test/adenocarcinoma/000123 (4).png\n",
            "Processing image: /content/Data/test/adenocarcinoma/000158 (5).png\n",
            "Processing image: /content/Data/test/adenocarcinoma/000131 (2).png\n",
            "Processing image: /content/Data/test/adenocarcinoma/000148.png\n",
            "Processing image: /content/Data/test/adenocarcinoma/000173 (5).png\n",
            "Processing image: /content/Data/test/adenocarcinoma/000149 (4).png\n",
            "Processing image: /content/Data/test/adenocarcinoma/000171.png\n",
            "Processing image: /content/Data/test/adenocarcinoma/000163 (7).png\n",
            "Processing image: /content/Data/test/adenocarcinoma/000116 (7).png\n",
            "Processing image: /content/Data/test/adenocarcinoma/000121 (6).png\n",
            "Processing image: /content/Data/test/adenocarcinoma/000109 (4).png\n",
            "Processing image: /content/Data/test/adenocarcinoma/000115.png\n",
            "Processing image: /content/Data/test/adenocarcinoma/000122.png\n",
            "Processing image: /content/Data/test/adenocarcinoma/000138 (6).png\n",
            "Processing image: /content/Data/test/adenocarcinoma/000121.png\n",
            "Processing image: /content/Data/test/adenocarcinoma/000126 (6).png\n",
            "Processing image: /content/Data/test/adenocarcinoma/000143 (5).png\n",
            "Processing image: /content/Data/test/adenocarcinoma/000109 (5).png\n",
            "Processing image: /content/Data/test/adenocarcinoma/000172 (3).png\n",
            "Processing image: /content/Data/test/adenocarcinoma/000137 (8).png\n",
            "Processing image: /content/Data/test/adenocarcinoma/000134 (9).png\n",
            "Processing image: /content/Data/test/adenocarcinoma/000144 (5).png\n",
            "Processing image: /content/Data/test/adenocarcinoma/000139.png\n",
            "Processing image: /content/Data/test/adenocarcinoma/000156 (4).png\n",
            "Processing image: /content/Data/test/adenocarcinoma/000160 (4).png\n",
            "Processing image: /content/Data/test/adenocarcinoma/000155 (4).png\n",
            "Processing image: /content/Data/test/adenocarcinoma/000116 (9).png\n",
            "Processing image: /content/Data/test/adenocarcinoma/000113 (7).png\n",
            "Processing image: /content/Data/test/adenocarcinoma/000120.png\n",
            "Processing image: /content/Data/test/adenocarcinoma/000132 (2).png\n",
            "Processing image: /content/Data/test/adenocarcinoma/000155.png\n",
            "Processing image: /content/Data/test/adenocarcinoma/000127 (5).png\n",
            "Processing image: /content/Data/test/adenocarcinoma/000132 (8).png\n",
            "Processing image: /content/Data/test/adenocarcinoma/000167 (8).png\n",
            "Processing image: /content/Data/test/adenocarcinoma/000117 (4).png\n",
            "Processing image: /content/Data/test/adenocarcinoma/000160 (6).png\n",
            "Processing image: /content/Data/test/adenocarcinoma/000132.png\n",
            "Processing image: /content/Data/test/adenocarcinoma/000164 (5).png\n",
            "Processing image: /content/Data/test/adenocarcinoma/000148 (3).png\n",
            "Processing image: /content/Data/test/adenocarcinoma/000119 (5).png\n",
            "Processing image: /content/Data/test/adenocarcinoma/000125 (6).png\n",
            "Processing image: /content/Data/test/adenocarcinoma/000109 (2).png\n",
            "Processing image: /content/Data/test/adenocarcinoma/000135 (5).png\n",
            "Processing image: /content/Data/test/adenocarcinoma/000129.png\n",
            "Processing image: /content/Data/test/adenocarcinoma/000137 (2).png\n",
            "Processing image: /content/Data/test/adenocarcinoma/000146 (6).png\n",
            "Processing image: /content/Data/test/adenocarcinoma/000143 (6).png\n",
            "Processing image: /content/Data/test/adenocarcinoma/000141 (2).png\n",
            "Processing image: /content/Data/test/adenocarcinoma/000115 (8).png\n",
            "Processing image: /content/Data/test/adenocarcinoma/000148 (6).png\n",
            "Processing image: /content/Data/test/adenocarcinoma/000153 (5).png\n",
            "Processing image: /content/Data/test/adenocarcinoma/000116 (5).png\n",
            "Processing image: /content/Data/test/adenocarcinoma/000122 (4).png\n",
            "Processing image: /content/Data/test/adenocarcinoma/000119 (4).png\n",
            "Processing image: /content/Data/test/adenocarcinoma/000173 (7).png\n",
            "Processing image: /content/Data/test/adenocarcinoma/000167 (3).png\n",
            "Processing image: /content/Data/test/adenocarcinoma/000114.png\n",
            "Processing image: /content/Data/test/adenocarcinoma/000139 (9).png\n",
            "Processing image: /content/Data/test/adenocarcinoma/000149 (7).png\n",
            "Processing image: /content/Data/test/adenocarcinoma/000125 (5).png\n",
            "Processing image: /content/Data/test/adenocarcinoma/000139 (8).png\n",
            "Processing image: /content/Data/test/adenocarcinoma/000157 (6).png\n",
            "Processing image: /content/Data/test/adenocarcinoma/000133 (4).png\n",
            "Processing image: /content/Data/test/adenocarcinoma/000134 (2).png\n",
            "Processing image: /content/Data/test/adenocarcinoma/000128 (5).png\n",
            "Processing image: /content/Data/test/adenocarcinoma/000174 (4).png\n",
            "Processing image: /content/Data/test/adenocarcinoma/000134.png\n",
            "Processing image: /content/Data/test/adenocarcinoma/000158 (6).png\n",
            "Processing image: /content/Data/test/adenocarcinoma/000123 (6).png\n",
            "Processing image: /content/Data/test/adenocarcinoma/000139 (6).png\n",
            "Processing image: /content/Data/test/adenocarcinoma/000136 (2).png\n",
            "Processing image: /content/Data/test/adenocarcinoma/000166 (2).png\n",
            "Processing image: /content/Data/test/adenocarcinoma/000149 (2).png\n",
            "Processing image: /content/Data/test/adenocarcinoma/000168 (3).png\n",
            "Processing image: /content/Data/test/adenocarcinoma/000142.png\n",
            "Processing image: /content/Data/test/adenocarcinoma/000161 (4).png\n",
            "Processing image: /content/Data/test/adenocarcinoma/000138 (9).png\n",
            "Processing image: /content/Data/test/adenocarcinoma/000124 (9).png\n",
            "Processing image: /content/Data/test/adenocarcinoma/000158.png\n",
            "Processing image: /content/Data/test/adenocarcinoma/000125 (4).png\n",
            "Processing image: /content/Data/test/adenocarcinoma/000117.png\n",
            "Processing image: /content/Data/test/adenocarcinoma/000165 (6).png\n",
            "Processing image: /content/Data/test/adenocarcinoma/000140.png\n",
            "Processing image: /content/Data/test/adenocarcinoma/000119 (6).png\n",
            "Processing image: /content/Data/test/adenocarcinoma/000171 (5).png\n",
            "Processing image: /content/Data/test/adenocarcinoma/000177 (4).png\n",
            "Processing image: /content/Data/test/adenocarcinoma/000118 (5).png\n",
            "Processing image: /content/Data/test/adenocarcinoma/000114 (5).png\n",
            "Processing image: /content/Data/test/adenocarcinoma/000161 (5).png\n",
            "Processing image: /content/Data/test/adenocarcinoma/000133 (2).png\n",
            "Total images processed: 847\n"
          ]
        }
      ]
    },
    {
      "cell_type": "markdown",
      "source": [
        "# Load data"
      ],
      "metadata": {
        "id": "yb48AiYltVWB"
      }
    },
    {
      "cell_type": "markdown",
      "source": [
        "# Ensure `X` is in the correct shape"
      ],
      "metadata": {
        "id": "3pEaTl5Jwoqk"
      }
    },
    {
      "cell_type": "code",
      "source": [
        "X = np.array(X)\n",
        "if X.ndim == 1:\n",
        "    X = X.reshape(len(X), -1)  # Ensure 2D shape for SMOTE\n",
        "\n",
        "print(f\"Shape of X before SMOTE: {X.shape}\")"
      ],
      "metadata": {
        "colab": {
          "base_uri": "https://localhost:8080/"
        },
        "id": "gLznDY8TwqRW",
        "outputId": "64b9e415-fc65-41cb-fee5-9b34861884ab"
      },
      "execution_count": 19,
      "outputs": [
        {
          "output_type": "stream",
          "name": "stdout",
          "text": [
            "Shape of X before SMOTE: (847, 6084)\n"
          ]
        }
      ]
    },
    {
      "cell_type": "markdown",
      "source": [
        "\n",
        "# Handle Imbalanced Data using SMOTE"
      ],
      "metadata": {
        "id": "7Syme4uawBI3"
      }
    },
    {
      "cell_type": "code",
      "source": [
        "from imblearn.over_sampling import SMOTE\n",
        "\n",
        "smote = SMOTE()\n",
        "X_resampled, y_resampled = smote.fit_resample(X, y)\n",
        "\n",
        "print(f\"Resampled X shape: {X_resampled.shape}\")"
      ],
      "metadata": {
        "colab": {
          "base_uri": "https://localhost:8080/"
        },
        "id": "ZRWqMW0Atv5X",
        "outputId": "7247bd45-64e5-402a-cd2f-18743730f73d"
      },
      "execution_count": 20,
      "outputs": [
        {
          "output_type": "stream",
          "name": "stdout",
          "text": [
            "Resampled X shape: (1548, 6084)\n"
          ]
        }
      ]
    },
    {
      "cell_type": "code",
      "source": [
        "from sklearn.model_selection import train_test_split\n",
        "\n",
        "X_train, X_test, y_train, y_test = train_test_split(X_resampled, y_resampled, test_size=0.2, random_state=42)\n",
        "\n",
        "print(f\"Training set size: {len(X_train)}, Test set size: {len(X_test)}\")"
      ],
      "metadata": {
        "colab": {
          "base_uri": "https://localhost:8080/"
        },
        "id": "IfjxnNviwE64",
        "outputId": "f9de1b26-053e-4c24-e8b2-115def7aacae"
      },
      "execution_count": 21,
      "outputs": [
        {
          "output_type": "stream",
          "name": "stdout",
          "text": [
            "Training set size: 1238, Test set size: 310\n"
          ]
        }
      ]
    },
    {
      "cell_type": "markdown",
      "source": [
        "# Train an ML Model"
      ],
      "metadata": {
        "id": "72AgSr_410a2"
      }
    },
    {
      "cell_type": "code",
      "source": [
        "from sklearn.svm import SVC\n",
        "from sklearn.metrics import accuracy_score, classification_report\n",
        "\n",
        "# Initialize and train the model\n",
        "model = SVC(kernel=\"linear\", random_state=42)\n",
        "model.fit(X_train, y_train)\n",
        "\n",
        "# Make predictions\n",
        "y_pred = model.predict(X_test)\n",
        "\n",
        "# Evaluate performance\n",
        "print(f\"Accuracy: {accuracy_score(y_test, y_pred):.4f}\")\n",
        "print(classification_report(y_test, y_pred))\n"
      ],
      "metadata": {
        "colab": {
          "base_uri": "https://localhost:8080/"
        },
        "id": "AzrSL6Dt1kS8",
        "outputId": "ac93df69-8340-42ce-f107-d356290fb925"
      },
      "execution_count": 22,
      "outputs": [
        {
          "output_type": "stream",
          "name": "stdout",
          "text": [
            "Accuracy: 0.9839\n",
            "              precision    recall  f1-score   support\n",
            "\n",
            "        test       1.00      1.00      1.00       106\n",
            "       train       1.00      0.95      0.98       104\n",
            "       valid       0.95      1.00      0.98       100\n",
            "\n",
            "    accuracy                           0.98       310\n",
            "   macro avg       0.98      0.98      0.98       310\n",
            "weighted avg       0.98      0.98      0.98       310\n",
            "\n"
          ]
        }
      ]
    },
    {
      "cell_type": "code",
      "source": [
        "model = SVC(kernel=\"linear\", class_weight=\"balanced\", random_state=42)"
      ],
      "metadata": {
        "id": "nJIuPRVAHroy"
      },
      "execution_count": 48,
      "outputs": []
    },
    {
      "cell_type": "code",
      "source": [
        "from imblearn.over_sampling import SMOTE\n",
        "\n",
        "smote = SMOTE(sampling_strategy={0: 500, 1: 500, 2: 1000}, random_state=42)  # Adjusted ratios\n",
        "X_resampled, y_resampled = smote.fit_resample(X_train, y_train)"
      ],
      "metadata": {
        "id": "Yl0E-2ihHyWD"
      },
      "execution_count": 49,
      "outputs": []
    },
    {
      "cell_type": "code",
      "source": [
        "from sklearn.metrics import confusion_matrix\n",
        "import seaborn as sns\n",
        "import matplotlib.pyplot as plt\n",
        "\n",
        "cm = confusion_matrix(y_test, y_pred)\n",
        "plt.figure(figsize=(6, 5))\n",
        "sns.heatmap(cm, annot=True, fmt=\"d\", cmap=\"Blues\")\n",
        "plt.xlabel(\"Predicted\")\n",
        "plt.ylabel(\"Actual\")\n",
        "plt.title(\"Confusion Matrix\")\n",
        "plt.show()"
      ],
      "metadata": {
        "colab": {
          "base_uri": "https://localhost:8080/",
          "height": 487
        },
        "id": "8QBdyHVc15z9",
        "outputId": "c2e06235-7641-4e7f-a746-702e9fecd202"
      },
      "execution_count": 50,
      "outputs": [
        {
          "output_type": "display_data",
          "data": {
            "text/plain": [
              "<Figure size 600x500 with 2 Axes>"
            ],
            "image/png": "[encoded data removed]"
          },
          "metadata": {}
        }
      ]
    },
    {
      "cell_type": "code",
      "source": [
        "from sklearn.metrics import classification_report\n",
        "\n",
        "print(classification_report(y_test, y_pred, target_names=['Normal', 'Benign', 'Malignant']))\n"
      ],
      "metadata": {
        "colab": {
          "base_uri": "https://localhost:8080/"
        },
        "id": "wYQJxBF5IrbT",
        "outputId": "88077a6e-3260-46bd-f954-2ed8eb5e9ae1"
      },
      "execution_count": 55,
      "outputs": [
        {
          "output_type": "stream",
          "name": "stdout",
          "text": [
            "              precision    recall  f1-score   support\n",
            "\n",
            "      Normal       1.00      1.00      1.00       106\n",
            "      Benign       1.00      0.95      0.98       104\n",
            "   Malignant       0.95      1.00      0.98       100\n",
            "\n",
            "    accuracy                           0.98       310\n",
            "   macro avg       0.98      0.98      0.98       310\n",
            "weighted avg       0.98      0.98      0.98       310\n",
            "\n"
          ]
        }
      ]
    },
    {
      "cell_type": "code",
      "source": [
        "from sklearn.metrics import confusion_matrix\n",
        "import seaborn as sns\n",
        "import matplotlib.pyplot as plt\n",
        "\n",
        "cm = confusion_matrix(y_test, y_pred)\n",
        "sns.heatmap(cm, annot=True, fmt='d', cmap='Blues', xticklabels=['Normal', 'Benign', 'Malignant'], yticklabels=['Normal', 'Benign', 'Malignant'])\n",
        "plt.show()"
      ],
      "metadata": {
        "colab": {
          "base_uri": "https://localhost:8080/",
          "height": 430
        },
        "id": "ssEEuoM1Ix3H",
        "outputId": "29177c5a-ab06-4182-8cd4-a74f3761d195"
      },
      "execution_count": 56,
      "outputs": [
        {
          "output_type": "display_data",
          "data": {
            "text/plain": [
              "<Figure size 640x480 with 2 Axes>"
            ],
            "image/png": "[encoded data removed]"
          },
          "metadata": {}
        }
      ]
    },
    {
      "cell_type": "markdown",
      "source": [
        "# XGBoost (Extreme Gradient Boosting)"
      ],
      "metadata": {
        "id": "WgIioN8v404z"
      }
    },
    {
      "cell_type": "code",
      "source": [
        "from sklearn.preprocessing import LabelEncoder\n",
        "\n",
        "# Ensure labels are converted to numeric values\n",
        "label_encoder = LabelEncoder()\n",
        "y_train = label_encoder.fit_transform(y_train)  # Convert string labels to numbers\n",
        "y_test = label_encoder.transform(y_test)  # Transform test labels\n",
        "\n",
        "# Check the mapping\n",
        "print(f\"Class Mapping: {dict(zip(label_encoder.classes_, label_encoder.transform(label_encoder.classes_)))}\")"
      ],
      "metadata": {
        "colab": {
          "base_uri": "https://localhost:8080/"
        },
        "id": "pZWp0l1w5Ngn",
        "outputId": "08226bca-11c3-4d5a-9021-810b3a14a7df"
      },
      "execution_count": 24,
      "outputs": [
        {
          "output_type": "stream",
          "name": "stdout",
          "text": [
            "Class Mapping: {np.str_('test'): np.int64(0), np.str_('train'): np.int64(1), np.str_('valid'): np.int64(2)}\n"
          ]
        }
      ]
    },
    {
      "cell_type": "code",
      "source": [
        "from xgboost import XGBClassifier\n",
        "from sklearn.metrics import accuracy_score\n",
        "\n",
        "# Initialize XGBoost Classifier\n",
        "xgb_model = XGBClassifier(n_estimators=100, learning_rate=0.1, max_depth=5, random_state=42)\n",
        "\n",
        "# Train model\n",
        "xgb_model.fit(X_train, y_train)\n",
        "\n",
        "# Predict\n",
        "y_pred_xgb = xgb_model.predict(X_test)\n",
        "\n",
        "# Accuracy\n",
        "xgb_acc = accuracy_score(y_test, y_pred_xgb)\n",
        "print(f\"XGBoost Accuracy: {xgb_acc:.4f}\")\n"
      ],
      "metadata": {
        "colab": {
          "base_uri": "https://localhost:8080/"
        },
        "id": "J_9s6lk33gU-",
        "outputId": "9a19cb34-1b67-4905-b87a-223c35f86b86"
      },
      "execution_count": 25,
      "outputs": [
        {
          "output_type": "stream",
          "name": "stdout",
          "text": [
            "XGBoost Accuracy: 0.9645\n"
          ]
        }
      ]
    },
    {
      "cell_type": "markdown",
      "source": [
        "# Random Forest Classifier"
      ],
      "metadata": {
        "id": "Dj8LrkW26eEI"
      }
    },
    {
      "cell_type": "code",
      "source": [
        "from sklearn.ensemble import RandomForestClassifier\n",
        "\n",
        "# Initialize Random Forest Classifier\n",
        "rf_model = RandomForestClassifier(n_estimators=200, max_depth=10, random_state=42)\n",
        "\n",
        "# Train model\n",
        "rf_model.fit(X_train, y_train)\n",
        "\n",
        "# Predict\n",
        "y_pred_rf = rf_model.predict(X_test)\n",
        "\n",
        "# Accuracy\n",
        "rf_acc = accuracy_score(y_test, y_pred_rf)\n",
        "print(f\"Random Forest Accuracy: {rf_acc:.4f}\")"
      ],
      "metadata": {
        "colab": {
          "base_uri": "https://localhost:8080/"
        },
        "id": "nvurBGTz-xqS",
        "outputId": "e83668c6-66c3-4d87-8da6-4ae6757ea3ad"
      },
      "execution_count": 38,
      "outputs": [
        {
          "output_type": "stream",
          "name": "stdout",
          "text": [
            "Random Forest Accuracy: 0.9677\n"
          ]
        }
      ]
    },
    {
      "cell_type": "code",
      "source": [
        "from sklearn.ensemble import VotingClassifier\n",
        "from sklearn.svm import SVC\n",
        "from xgboost import XGBClassifier\n",
        "from sklearn.ensemble import RandomForestClassifier\n",
        "from sklearn.metrics import accuracy_score, classification_report\n",
        "import joblib\n",
        "\n",
        "# Load preprocessed training data\n",
        "# Assuming X_train, y_train, X_test, y_test are already defined\n",
        "\n",
        "# Initialize base models\n",
        "svm = SVC(kernel=\"linear\", probability=False, random_state=42)  # No probability for hard voting\n",
        "xgb = XGBClassifier(use_label_encoder=False, eval_metric='mlogloss', random_state=42)\n",
        "rf = RandomForestClassifier(n_estimators=100, random_state=42)\n",
        "\n",
        "# Create the Hard Voting Classifier\n",
        "hard_voting_clf = VotingClassifier(\n",
        "    estimators=[('svm', svm), ('xgb', xgb), ('rf', rf)],\n",
        "    voting='hard'  # Majority voting\n",
        ")\n",
        "\n",
        "# Train the ensemble model\n",
        "hard_voting_clf.fit(X_train, y_train)\n",
        "\n",
        "# Save the trained model\n",
        "joblib.dump(hard_voting_clf, \"lung_cancer_hard_voting.pkl\")\n",
        "\n",
        "# Predict on test data\n",
        "y_pred = hard_voting_clf.predict(X_test)\n",
        "\n",
        "# Evaluate performance\n",
        "print(\"✅ Accuracy:\", accuracy_score(y_test, y_pred))\n",
        "print(\"📊 Classification Report:\\n\", classification_report(y_test, y_pred))\n"
      ],
      "metadata": {
        "colab": {
          "base_uri": "https://localhost:8080/"
        },
        "id": "aGuK0GumKP-0",
        "outputId": "eb079c3e-d0d1-47a3-dc25-59996efc113b"
      },
      "execution_count": 57,
      "outputs": [
        {
          "output_type": "stream",
          "name": "stderr",
          "text": [
            "/usr/local/lib/python3.11/dist-packages/xgboost/core.py:158: UserWarning: [09:50:40] WARNING: /workspace/src/learner.cc:740: \n",
            "Parameters: { \"use_label_encoder\" } are not used.\n",
            "\n",
            "  warnings.warn(smsg, UserWarning)\n"
          ]
        },
        {
          "output_type": "stream",
          "name": "stdout",
          "text": [
            "✅ Accuracy: 0.9741935483870968\n",
            "📊 Classification Report:\n",
            "               precision    recall  f1-score   support\n",
            "\n",
            "           0       1.00      0.97      0.99       106\n",
            "           1       0.96      0.96      0.96       104\n",
            "           2       0.96      0.99      0.98       100\n",
            "\n",
            "    accuracy                           0.97       310\n",
            "   macro avg       0.97      0.97      0.97       310\n",
            "weighted avg       0.97      0.97      0.97       310\n",
            "\n"
          ]
        }
      ]
    },
    {
      "cell_type": "markdown",
      "source": [
        "#  Save the XGBoost Model"
      ],
      "metadata": {
        "id": "lts1ypzl8IXr"
      }
    },
    {
      "cell_type": "code",
      "source": [
        "from sklearn.ensemble import VotingClassifier, RandomForestClassifier\n",
        "from sklearn.svm import SVC\n",
        "from xgboost import XGBClassifier\n",
        "from sklearn.preprocessing import LabelEncoder\n",
        "from sklearn.metrics import accuracy_score, classification_report\n",
        "import joblib\n",
        "\n",
        "# Initialize LabelEncoder\n",
        "encoder = LabelEncoder()\n",
        "\n",
        "# Fit encoder on training labels\n",
        "y_train_encoded = encoder.fit_transform(y_train)\n",
        "\n",
        "# Initialize base models\n",
        "svm = SVC(kernel=\"linear\", probability=False, random_state=42)  # No probability for hard voting\n",
        "xgb = XGBClassifier(use_label_encoder=False, eval_metric=\"mlogloss\", random_state=42)\n",
        "rf = RandomForestClassifier(n_estimators=100, random_state=42)\n",
        "\n",
        "# Create the Hard Voting Classifier\n",
        "hard_voting_clf = VotingClassifier(\n",
        "    estimators=[(\"svm\", svm), (\"xgb\", xgb), (\"rf\", rf)],\n",
        "    voting=\"hard\"  # Majority voting\n",
        ")\n",
        "\n",
        "# Train the ensemble model\n",
        "hard_voting_clf.fit(X_train, y_train_encoded)\n",
        "\n",
        "# Save the trained model\n",
        "joblib.dump(hard_voting_clf, \"lung_cancer_hard_voting.pkl\")\n",
        "\n",
        "# Save the label encoder\n",
        "joblib.dump(encoder, \"label_encoder.pkl\")\n",
        "\n",
        "print(\"✅ Hard Voting Model and Label Encoder saved successfully!\")\n",
        "\n",
        "# Test the saved model (optional)\n",
        "y_test_encoded = encoder.transform(y_test)\n",
        "y_pred = hard_voting_clf.predict(X_test)\n",
        "print(f\"✅ Accuracy: {accuracy_score(y_test_encoded, y_pred):.4f}\")\n",
        "print(\"📊 Classification Report:\\n\", classification_report(y_test_encoded, y_pred))\n"
      ],
      "metadata": {
        "colab": {
          "base_uri": "https://localhost:8080/"
        },
        "id": "Tqd_eu7H6apf",
        "outputId": "f7616465-5090-473b-9db5-35f4dc0104c7"
      },
      "execution_count": 58,
      "outputs": [
        {
          "output_type": "stream",
          "name": "stderr",
          "text": [
            "/usr/local/lib/python3.11/dist-packages/xgboost/core.py:158: UserWarning: [09:57:23] WARNING: /workspace/src/learner.cc:740: \n",
            "Parameters: { \"use_label_encoder\" } are not used.\n",
            "\n",
            "  warnings.warn(smsg, UserWarning)\n"
          ]
        },
        {
          "output_type": "stream",
          "name": "stdout",
          "text": [
            "✅ Hard Voting Model and Label Encoder saved successfully!\n",
            "✅ Accuracy: 0.9742\n",
            "📊 Classification Report:\n",
            "               precision    recall  f1-score   support\n",
            "\n",
            "           0       1.00      0.97      0.99       106\n",
            "           1       0.96      0.96      0.96       104\n",
            "           2       0.96      0.99      0.98       100\n",
            "\n",
            "    accuracy                           0.97       310\n",
            "   macro avg       0.97      0.97      0.97       310\n",
            "weighted avg       0.97      0.97      0.97       310\n",
            "\n"
          ]
        }
      ]
    },
    {
      "cell_type": "code",
      "source": [
        "import joblib\n",
        "import numpy as np\n",
        "\n",
        "# Load the trained Hard Voting Classifier model and label encoder\n",
        "voting_model = joblib.load(\"lung_cancer_hard_voting.pkl\")\n",
        "encoder = joblib.load(\"label_encoder.pkl\")\n",
        "\n",
        "# Ensure y_test is encoded\n",
        "y_test_encoded = encoder.transform(y_test)\n",
        "\n",
        "# Predict on test data\n",
        "y_pred_encoded = voting_model.predict(X_test)\n",
        "\n",
        "# Convert numeric predictions back to class labels\n",
        "y_pred_labels = encoder.inverse_transform(y_pred_encoded)\n",
        "\n",
        "# Convert actual test labels back to original class labels\n",
        "y_test_labels = encoder.inverse_transform(y_test_encoded)\n",
        "\n",
        "# Print results\n",
        "print(\"🔹 Actual Labels:\", y_test_labels[:10])  # First 10 actual labels\n",
        "print(\"🔹 Predicted Labels:\", y_pred_labels[:10])  # First 10 predicted labels\n"
      ],
      "metadata": {
        "colab": {
          "base_uri": "https://localhost:8080/"
        },
        "id": "sqB2WDmy8MGy",
        "outputId": "8d2b445d-37ca-4198-d35d-6a63a78fc1fb"
      },
      "execution_count": 59,
      "outputs": [
        {
          "output_type": "stream",
          "name": "stdout",
          "text": [
            "🔹 Actual Labels: [1 2 2 2 2 1 1 0 0 0]\n",
            "🔹 Predicted Labels: [2 2 2 2 2 2 1 0 0 0]\n"
          ]
        }
      ]
    },
    {
      "cell_type": "code",
      "source": [
        "print(\"Actual Labels:\", y_test[:10])  # First 10 actual labels\n",
        "print(\"Predicted Labels:\", y_pred[:10])  # First 10 predicted labels"
      ],
      "metadata": {
        "colab": {
          "base_uri": "https://localhost:8080/"
        },
        "id": "0HZbrNgZ9Taq",
        "outputId": "f6345028-55f2-4f5e-8ca9-202b8d4cd358"
      },
      "execution_count": 60,
      "outputs": [
        {
          "output_type": "stream",
          "name": "stdout",
          "text": [
            "Actual Labels: [1 2 2 2 2 1 1 0 0 0]\n",
            "Predicted Labels: [2 2 2 2 2 2 1 0 0 0]\n"
          ]
        }
      ]
    },
    {
      "cell_type": "code",
      "source": [
        "import joblib\n",
        "import numpy as np\n",
        "\n",
        "# Load the trained SVM model and label encoder\n",
        "svm_model = joblib.load(\"lung_cancer_svm.pkl\")  # Fixed model name\n",
        "encoder = joblib.load(\"label_encoder.pkl\")\n",
        "\n",
        "# Select a sample from X_test (assuming X_test is a NumPy array)\n",
        "sample_input = X_test[0].reshape(1, -1)  # Ensure it's in the correct shape for prediction\n",
        "\n",
        "# Predict on the sample\n",
        "predicted_class = svm_model.predict(sample_input)  # Use svm_model instead of xgb_model\n",
        "\n",
        "# Convert numeric prediction back to class label\n",
        "predicted_label = encoder.inverse_transform([predicted_class[0]])\n",
        "\n",
        "print(\"Predicted Class:\", predicted_label[0])"
      ],
      "metadata": {
        "colab": {
          "base_uri": "https://localhost:8080/"
        },
        "id": "dbnv1ldV-H5s",
        "outputId": "5312fb4b-69c7-4df5-d14d-bdacd2272832"
      },
      "execution_count": 61,
      "outputs": [
        {
          "output_type": "stream",
          "name": "stdout",
          "text": [
            "Predicted Class: 2\n"
          ]
        }
      ]
    },
    {
      "cell_type": "code",
      "source": [],
      "metadata": {
        "id": "aTFSA6vwxKbE"
      },
      "execution_count": null,
      "outputs": []
    }
  ]
}